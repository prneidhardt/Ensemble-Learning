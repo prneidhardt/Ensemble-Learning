{
 "cells": [
  {
   "cell_type": "markdown",
   "id": "7708628a",
   "metadata": {
    "id": "AT5OogJVFbwu"
   },
   "source": [
    "# Ensemble Learning Project: EasyVisa\n",
    "\n",
    "## Context:\n",
    "\n",
    "Business communities in the United States are facing high demand for human resources, but one of the constant challenges is identifying and attracting the right talent, which is perhaps the most important element in remaining competitive. Companies in the United States look for hard-working, talented, and qualified individuals both locally as well as abroad.\n",
    "\n",
    "The Immigration and Nationality Act (INA) of the US permits foreign workers to come to the United States to work on either a temporary or permanent basis. The act also protects US workers against adverse impacts on their wages or working conditions by ensuring US employers' compliance with statutory requirements when they hire foreign workers to fill workforce shortages. The immigration programs are administered by the Office of Foreign Labor Certification (OFLC).\n",
    "\n",
    "OFLC processes job certification applications for employers seeking to bring foreign workers into the United States and grants certifications in those cases where employers can demonstrate that there are not sufficient US workers available to perform the work at wages that meet or exceed the wage paid for the occupation in the area of intended employment.\n",
    "\n",
    "## Objective:\n",
    "\n",
    "In FY 2016, the OFLC processed 775,979 employer applications for 1,699,957 positions for temporary and permanent labor certifications. This was a nine percent increase in the overall number of processed applications from the previous year. The process of reviewing every case is becoming a tedious task as the number of applicants is increasing every year.\n",
    "\n",
    "The increasing number of applicants every year calls for a Machine Learning based solution that can help in shortlisting the candidates having higher chances of VISA approval. OFLC has hired your firm EasyVisa for data-driven solutions. You as a data scientist have to analyze the data provided and, with the help of a classification model:\n",
    "\n",
    "* Facilitate the process of visa approvals.\n",
    "* Recommend a suitable profile for the applicants for whom the visa should be certified or denied based on the drivers that significantly influence the case status. \n",
    "\n",
    "\n",
    "## Data Description\n",
    "\n",
    "The data contains the different attributes of the employee and the employer. The detailed data dictionary is given below.\n",
    "\n",
    "* case_id: ID of each visa application\n",
    "* continent: Information of continent the employee\n",
    "* education_of_employee: Information of education of the employee\n",
    "* has_job_experience: Does the employee has any job experience? Y= Yes; N = No\n",
    "* requires_job_training: Does the employee require any job training? Y = Yes; N = No \n",
    "* no_of_employees: Number of employees in the employer's company\n",
    "* yr_of_estab: Year in which the employer's company was established\n",
    "* region_of_employment: Information of foreign worker's intended region of employment in the US.\n",
    "* prevailing_wage:  Average wage paid to similarly employed workers in a specific occupation in the area of intended employment. The purpose of the prevailing wage is to ensure that the foreign worker is not underpaid compared to other workers offering the same or similar service in the same area of employment. \n",
    "* unit_of_wage: Unit of prevailing wage. Values include Hourly, Weekly, Monthly, and Yearly.\n",
    "* full_time_position: Is the position of work full-time? Y = Full Time Position; N = Part Time Position\n",
    "* case_status:  Flag indicating if the Visa was certified or denied"
   ]
  },
  {
   "cell_type": "markdown",
   "id": "a955ba46",
   "metadata": {
    "id": "dirty-island"
   },
   "source": [
    "## Importing necessary libraries, creating dataframe and functions"
   ]
  },
  {
   "cell_type": "code",
   "execution_count": 1,
   "id": "70c3de0d",
   "metadata": {},
   "outputs": [
    {
     "name": "stdout",
     "output_type": "stream",
     "text": [
      "Requirement already satisfied: xgboost in c:\\users\\pneid\\anaconda3\\lib\\site-packages (1.5.1)\n",
      "Requirement already satisfied: scipy in c:\\users\\pneid\\anaconda3\\lib\\site-packages (from xgboost) (1.6.1)\n",
      "Requirement already satisfied: numpy in c:\\users\\pneid\\anaconda3\\lib\\site-packages (from xgboost) (1.18.1)\n"
     ]
    }
   ],
   "source": [
    "!pip install xgboost"
   ]
  },
  {
   "cell_type": "code",
   "execution_count": 2,
   "id": "892a9f06",
   "metadata": {},
   "outputs": [],
   "source": [
    "#libraries to read and manipulate data\n",
    "import numpy as np\n",
    "import pandas as pd\n",
    "\n",
    "#libraries to visualize data\n",
    "import matplotlib.pyplot as plt\n",
    "import seaborn as sns\n",
    "\n",
    "#libraries for model building and tuning\n",
    "from sklearn import tree\n",
    "from sklearn.tree import DecisionTreeClassifier\n",
    "from sklearn.ensemble import (BaggingClassifier,RandomForestClassifier, \n",
    "                              GradientBoostingClassifier, AdaBoostClassifier, StackingClassifier)\n",
    "from xgboost import XGBClassifier\n",
    "from sklearn.model_selection import train_test_split\n",
    "from sklearn.model_selection import GridSearchCV, RandomizedSearchCV\n",
    "\n",
    "#libraries for metrics and statistics\n",
    "from sklearn import metrics\n",
    "import scipy.stats as stats\n",
    "from sklearn.metrics import confusion_matrix, classification_report\n",
    "from sklearn.metrics import accuracy_score,precision_score,recall_score,f1_score, roc_auc_score\n",
    "\n",
    "import warnings\n",
    "warnings.filterwarnings('ignore')"
   ]
  },
  {
   "cell_type": "code",
   "execution_count": 3,
   "id": "c3c26262",
   "metadata": {},
   "outputs": [],
   "source": [
    "#reading csv file into a pandas Dataframe\n",
    "visa = pd.read_csv('EasyVisa.csv')\n",
    "# copying data to another varaible to preserve original data\n",
    "df = visa.copy()"
   ]
  },
  {
   "cell_type": "code",
   "execution_count": 4,
   "id": "556d0d61",
   "metadata": {},
   "outputs": [],
   "source": [
    "#format numeric data for easier readability\n",
    "pd.set_option(\n",
    "    \"display.float_format\", lambda x: \"%.2f\" % x\n",
    ")  # to display numbers rounded off to 2 decimal places"
   ]
  },
  {
   "cell_type": "code",
   "execution_count": 5,
   "id": "f833406b",
   "metadata": {},
   "outputs": [],
   "source": [
    "# function to create labeled barplots\n",
    "\n",
    "def labeled_barplot(data, feature, feature_2, order, perc=False, n=None):\n",
    "    \"\"\"\n",
    "    Barplot with percentage at the top\n",
    "\n",
    "    data: dataframe\n",
    "    feature: dataframe column\n",
    "    feature_2: dataframe column\n",
    "    perc: whether to display percentages instead of count (default is False)\n",
    "    n: displays the top n category levels (default is None, i.e., display all levels)\n",
    "    \"\"\"\n",
    "\n",
    "    total = len(data[feature])  # length of the column\n",
    "    count = data[feature].nunique()\n",
    "    if n is None:\n",
    "        plt.figure(figsize=(count + 1, 5))\n",
    "    else:\n",
    "        plt.figure(figsize=(n + 1, 5))\n",
    "        \n",
    "    ax = sns.countplot(\n",
    "        data=data,\n",
    "        x=feature,\n",
    "        palette='viridis',\n",
    "        order=order,\n",
    "        hue=feature_2,\n",
    "    )\n",
    "\n",
    "    for p in ax.patches:\n",
    "        if perc == True:\n",
    "            label = \"{:.1f}%\".format(\n",
    "                100 * p.get_height() / total\n",
    "            )  # percentage of each class of the category\n",
    "        else:\n",
    "            label = p.get_height()  # count of each level of the category\n",
    "\n",
    "        x = p.get_x() + p.get_width() / 2  # width of the plot\n",
    "        y = p.get_height()  # height of the plot\n",
    "\n",
    "        ax.annotate(\n",
    "            label,\n",
    "            (x, y),\n",
    "            ha=\"center\",\n",
    "            va=\"center\",\n",
    "            size=9,\n",
    "            xytext=(0, 5),\n",
    "            textcoords=\"offset points\"\n",
    "        )  # annotate the percentage\n",
    "\n",
    "    plt.show()  # show the plot"
   ]
  },
  {
   "cell_type": "code",
   "execution_count": 6,
   "id": "d001db34",
   "metadata": {},
   "outputs": [],
   "source": [
    "# function to plot a boxplot and a histogram along the same scale\n",
    "\n",
    "def histogram_boxplot(data, feature, figsize=(16, 6), kde=False, bins=None, hue=None):\n",
    "    \"\"\"\n",
    "    Combines boxplot and histogram\n",
    "\n",
    "    data: dataframe\n",
    "    feature: dataframe column\n",
    "    figsize: size of figure (default (16,6))\n",
    "    kde: whether to show the density curve (default False)\n",
    "    bins: number of bins for histogram (default None)\n",
    "    \"\"\"\n",
    "    f2, (ax_box2, ax_hist2) = plt.subplots(\n",
    "        nrows=2,  # Number of rows of the subplot grid= 2\n",
    "        sharex=True,  # x-axis will be shared among all subplots\n",
    "        gridspec_kw={\"height_ratios\": (0.25, 0.75)},\n",
    "        figsize=figsize,\n",
    "    )  # creating the 2 subplots\n",
    "    sns.boxplot(\n",
    "        data=data, x=feature, ax=ax_box2, showmeans=True,\n",
    "    )  # boxplot will be created and a star will indicate the mean value of the column\n",
    "    sns.histplot(\n",
    "        data=data, x=feature, kde=kde, ax=ax_hist2, bins=bins, palette=\"winter\",\n",
    "    ) if bins else sns.histplot(\n",
    "        data=data, x=feature, kde=kde, ax=ax_hist2\n",
    "    )  # For histogram\n",
    "    ax_hist2.axvline(\n",
    "        data[feature].mean(), color=\"green\", linestyle=\"--\"\n",
    "    )  # Add mean to the histogram\n",
    "    ax_hist2.axvline(\n",
    "        data[feature].median(), color=\"black\", linestyle=\"-\"\n",
    "    )  # Add median to the histogram"
   ]
  },
  {
   "cell_type": "code",
   "execution_count": 7,
   "id": "99fa0bdb",
   "metadata": {},
   "outputs": [],
   "source": [
    "# function to plot stacked bar chart\n",
    "\n",
    "def stacked_barplot(data, predictor, target):\n",
    "    \"\"\"\n",
    "    Print the category counts and plot a stacked bar chart\n",
    "\n",
    "    data: dataframe\n",
    "    predictor: independent variable\n",
    "    target: target variable\n",
    "    \"\"\"\n",
    "    count = data[predictor].nunique()\n",
    "    sorter = data[target].value_counts().index[-1]\n",
    "    tab1 = pd.crosstab(data[predictor], data[target], margins=True).sort_values(\n",
    "        by=sorter, ascending=False\n",
    "    )\n",
    "    print(tab1)\n",
    "    print(\"-\" * 120)\n",
    "    tab = pd.crosstab(data[predictor], data[target], normalize=\"index\").sort_values(\n",
    "        by=sorter, ascending=False\n",
    "    )\n",
    "    tab.plot(kind=\"bar\", stacked=True, figsize=(count + 1, 5), cmap='viridis')\n",
    "    plt.legend(\n",
    "        loc=\"lower left\",\n",
    "        frameon=False,\n",
    "    )\n",
    "    plt.legend(loc=\"upper left\", bbox_to_anchor=(1, 1))\n",
    "    plt.show()"
   ]
  },
  {
   "cell_type": "markdown",
   "id": "5db20b80",
   "metadata": {
    "id": "desperate-infection"
   },
   "source": [
    "## Data Overview"
   ]
  },
  {
   "cell_type": "code",
   "execution_count": 8,
   "id": "2b5309eb",
   "metadata": {},
   "outputs": [
    {
     "data": {
      "text/html": [
       "<div>\n",
       "<style scoped>\n",
       "    .dataframe tbody tr th:only-of-type {\n",
       "        vertical-align: middle;\n",
       "    }\n",
       "\n",
       "    .dataframe tbody tr th {\n",
       "        vertical-align: top;\n",
       "    }\n",
       "\n",
       "    .dataframe thead th {\n",
       "        text-align: right;\n",
       "    }\n",
       "</style>\n",
       "<table border=\"1\" class=\"dataframe\">\n",
       "  <thead>\n",
       "    <tr style=\"text-align: right;\">\n",
       "      <th></th>\n",
       "      <th>case_id</th>\n",
       "      <th>continent</th>\n",
       "      <th>education_of_employee</th>\n",
       "      <th>has_job_experience</th>\n",
       "      <th>requires_job_training</th>\n",
       "      <th>no_of_employees</th>\n",
       "      <th>yr_of_estab</th>\n",
       "      <th>region_of_employment</th>\n",
       "      <th>prevailing_wage</th>\n",
       "      <th>unit_of_wage</th>\n",
       "      <th>full_time_position</th>\n",
       "      <th>case_status</th>\n",
       "    </tr>\n",
       "  </thead>\n",
       "  <tbody>\n",
       "    <tr>\n",
       "      <th>0</th>\n",
       "      <td>EZYV01</td>\n",
       "      <td>Asia</td>\n",
       "      <td>High School</td>\n",
       "      <td>N</td>\n",
       "      <td>N</td>\n",
       "      <td>14513</td>\n",
       "      <td>2007</td>\n",
       "      <td>West</td>\n",
       "      <td>592.20</td>\n",
       "      <td>Hour</td>\n",
       "      <td>Y</td>\n",
       "      <td>Denied</td>\n",
       "    </tr>\n",
       "    <tr>\n",
       "      <th>1</th>\n",
       "      <td>EZYV02</td>\n",
       "      <td>Asia</td>\n",
       "      <td>Master's</td>\n",
       "      <td>Y</td>\n",
       "      <td>N</td>\n",
       "      <td>2412</td>\n",
       "      <td>2002</td>\n",
       "      <td>Northeast</td>\n",
       "      <td>83425.65</td>\n",
       "      <td>Year</td>\n",
       "      <td>Y</td>\n",
       "      <td>Certified</td>\n",
       "    </tr>\n",
       "    <tr>\n",
       "      <th>2</th>\n",
       "      <td>EZYV03</td>\n",
       "      <td>Asia</td>\n",
       "      <td>Bachelor's</td>\n",
       "      <td>N</td>\n",
       "      <td>Y</td>\n",
       "      <td>44444</td>\n",
       "      <td>2008</td>\n",
       "      <td>West</td>\n",
       "      <td>122996.86</td>\n",
       "      <td>Year</td>\n",
       "      <td>Y</td>\n",
       "      <td>Denied</td>\n",
       "    </tr>\n",
       "    <tr>\n",
       "      <th>3</th>\n",
       "      <td>EZYV04</td>\n",
       "      <td>Asia</td>\n",
       "      <td>Bachelor's</td>\n",
       "      <td>N</td>\n",
       "      <td>N</td>\n",
       "      <td>98</td>\n",
       "      <td>1897</td>\n",
       "      <td>West</td>\n",
       "      <td>83434.03</td>\n",
       "      <td>Year</td>\n",
       "      <td>Y</td>\n",
       "      <td>Denied</td>\n",
       "    </tr>\n",
       "    <tr>\n",
       "      <th>4</th>\n",
       "      <td>EZYV05</td>\n",
       "      <td>Africa</td>\n",
       "      <td>Master's</td>\n",
       "      <td>Y</td>\n",
       "      <td>N</td>\n",
       "      <td>1082</td>\n",
       "      <td>2005</td>\n",
       "      <td>South</td>\n",
       "      <td>149907.39</td>\n",
       "      <td>Year</td>\n",
       "      <td>Y</td>\n",
       "      <td>Certified</td>\n",
       "    </tr>\n",
       "  </tbody>\n",
       "</table>\n",
       "</div>"
      ],
      "text/plain": [
       "  case_id continent education_of_employee has_job_experience  \\\n",
       "0  EZYV01      Asia           High School                  N   \n",
       "1  EZYV02      Asia              Master's                  Y   \n",
       "2  EZYV03      Asia            Bachelor's                  N   \n",
       "3  EZYV04      Asia            Bachelor's                  N   \n",
       "4  EZYV05    Africa              Master's                  Y   \n",
       "\n",
       "  requires_job_training  no_of_employees  yr_of_estab region_of_employment  \\\n",
       "0                     N            14513         2007                 West   \n",
       "1                     N             2412         2002            Northeast   \n",
       "2                     Y            44444         2008                 West   \n",
       "3                     N               98         1897                 West   \n",
       "4                     N             1082         2005                South   \n",
       "\n",
       "   prevailing_wage unit_of_wage full_time_position case_status  \n",
       "0           592.20         Hour                  Y      Denied  \n",
       "1         83425.65         Year                  Y   Certified  \n",
       "2        122996.86         Year                  Y      Denied  \n",
       "3         83434.03         Year                  Y      Denied  \n",
       "4        149907.39         Year                  Y   Certified  "
      ]
     },
     "execution_count": 8,
     "metadata": {},
     "output_type": "execute_result"
    }
   ],
   "source": [
    "# print first five rows\n",
    "df.head()"
   ]
  },
  {
   "cell_type": "code",
   "execution_count": 9,
   "id": "840ceeea",
   "metadata": {},
   "outputs": [
    {
     "data": {
      "text/html": [
       "<div>\n",
       "<style scoped>\n",
       "    .dataframe tbody tr th:only-of-type {\n",
       "        vertical-align: middle;\n",
       "    }\n",
       "\n",
       "    .dataframe tbody tr th {\n",
       "        vertical-align: top;\n",
       "    }\n",
       "\n",
       "    .dataframe thead th {\n",
       "        text-align: right;\n",
       "    }\n",
       "</style>\n",
       "<table border=\"1\" class=\"dataframe\">\n",
       "  <thead>\n",
       "    <tr style=\"text-align: right;\">\n",
       "      <th></th>\n",
       "      <th>case_id</th>\n",
       "      <th>continent</th>\n",
       "      <th>education_of_employee</th>\n",
       "      <th>has_job_experience</th>\n",
       "      <th>requires_job_training</th>\n",
       "      <th>no_of_employees</th>\n",
       "      <th>yr_of_estab</th>\n",
       "      <th>region_of_employment</th>\n",
       "      <th>prevailing_wage</th>\n",
       "      <th>unit_of_wage</th>\n",
       "      <th>full_time_position</th>\n",
       "      <th>case_status</th>\n",
       "    </tr>\n",
       "  </thead>\n",
       "  <tbody>\n",
       "    <tr>\n",
       "      <th>25475</th>\n",
       "      <td>EZYV25476</td>\n",
       "      <td>Asia</td>\n",
       "      <td>Bachelor's</td>\n",
       "      <td>Y</td>\n",
       "      <td>Y</td>\n",
       "      <td>2601</td>\n",
       "      <td>2008</td>\n",
       "      <td>South</td>\n",
       "      <td>77092.57</td>\n",
       "      <td>Year</td>\n",
       "      <td>Y</td>\n",
       "      <td>Certified</td>\n",
       "    </tr>\n",
       "    <tr>\n",
       "      <th>25476</th>\n",
       "      <td>EZYV25477</td>\n",
       "      <td>Asia</td>\n",
       "      <td>High School</td>\n",
       "      <td>Y</td>\n",
       "      <td>N</td>\n",
       "      <td>3274</td>\n",
       "      <td>2006</td>\n",
       "      <td>Northeast</td>\n",
       "      <td>279174.79</td>\n",
       "      <td>Year</td>\n",
       "      <td>Y</td>\n",
       "      <td>Certified</td>\n",
       "    </tr>\n",
       "    <tr>\n",
       "      <th>25477</th>\n",
       "      <td>EZYV25478</td>\n",
       "      <td>Asia</td>\n",
       "      <td>Master's</td>\n",
       "      <td>Y</td>\n",
       "      <td>N</td>\n",
       "      <td>1121</td>\n",
       "      <td>1910</td>\n",
       "      <td>South</td>\n",
       "      <td>146298.85</td>\n",
       "      <td>Year</td>\n",
       "      <td>N</td>\n",
       "      <td>Certified</td>\n",
       "    </tr>\n",
       "    <tr>\n",
       "      <th>25478</th>\n",
       "      <td>EZYV25479</td>\n",
       "      <td>Asia</td>\n",
       "      <td>Master's</td>\n",
       "      <td>Y</td>\n",
       "      <td>Y</td>\n",
       "      <td>1918</td>\n",
       "      <td>1887</td>\n",
       "      <td>West</td>\n",
       "      <td>86154.77</td>\n",
       "      <td>Year</td>\n",
       "      <td>Y</td>\n",
       "      <td>Certified</td>\n",
       "    </tr>\n",
       "    <tr>\n",
       "      <th>25479</th>\n",
       "      <td>EZYV25480</td>\n",
       "      <td>Asia</td>\n",
       "      <td>Bachelor's</td>\n",
       "      <td>Y</td>\n",
       "      <td>N</td>\n",
       "      <td>3195</td>\n",
       "      <td>1960</td>\n",
       "      <td>Midwest</td>\n",
       "      <td>70876.91</td>\n",
       "      <td>Year</td>\n",
       "      <td>Y</td>\n",
       "      <td>Certified</td>\n",
       "    </tr>\n",
       "  </tbody>\n",
       "</table>\n",
       "</div>"
      ],
      "text/plain": [
       "         case_id continent education_of_employee has_job_experience  \\\n",
       "25475  EZYV25476      Asia            Bachelor's                  Y   \n",
       "25476  EZYV25477      Asia           High School                  Y   \n",
       "25477  EZYV25478      Asia              Master's                  Y   \n",
       "25478  EZYV25479      Asia              Master's                  Y   \n",
       "25479  EZYV25480      Asia            Bachelor's                  Y   \n",
       "\n",
       "      requires_job_training  no_of_employees  yr_of_estab  \\\n",
       "25475                     Y             2601         2008   \n",
       "25476                     N             3274         2006   \n",
       "25477                     N             1121         1910   \n",
       "25478                     Y             1918         1887   \n",
       "25479                     N             3195         1960   \n",
       "\n",
       "      region_of_employment  prevailing_wage unit_of_wage full_time_position  \\\n",
       "25475                South         77092.57         Year                  Y   \n",
       "25476            Northeast        279174.79         Year                  Y   \n",
       "25477                South        146298.85         Year                  N   \n",
       "25478                 West         86154.77         Year                  Y   \n",
       "25479              Midwest         70876.91         Year                  Y   \n",
       "\n",
       "      case_status  \n",
       "25475   Certified  \n",
       "25476   Certified  \n",
       "25477   Certified  \n",
       "25478   Certified  \n",
       "25479   Certified  "
      ]
     },
     "execution_count": 9,
     "metadata": {},
     "output_type": "execute_result"
    }
   ],
   "source": [
    "# print last five rows\n",
    "df.tail()"
   ]
  },
  {
   "cell_type": "code",
   "execution_count": 10,
   "id": "8348f21d",
   "metadata": {},
   "outputs": [
    {
     "data": {
      "text/plain": [
       "(25480, 12)"
      ]
     },
     "execution_count": 10,
     "metadata": {},
     "output_type": "execute_result"
    }
   ],
   "source": [
    "# print shape of dataset\n",
    "df.shape"
   ]
  },
  {
   "cell_type": "markdown",
   "id": "447f0dd9",
   "metadata": {},
   "source": [
    "#### Observations\n",
    "- Dataset has 25,480 rows and 12 columns."
   ]
  },
  {
   "cell_type": "code",
   "execution_count": 11,
   "id": "db21f738",
   "metadata": {
    "scrolled": false
   },
   "outputs": [
    {
     "name": "stdout",
     "output_type": "stream",
     "text": [
      "<class 'pandas.core.frame.DataFrame'>\n",
      "RangeIndex: 25480 entries, 0 to 25479\n",
      "Data columns (total 12 columns):\n",
      " #   Column                 Non-Null Count  Dtype  \n",
      "---  ------                 --------------  -----  \n",
      " 0   case_id                25480 non-null  object \n",
      " 1   continent              25480 non-null  object \n",
      " 2   education_of_employee  25480 non-null  object \n",
      " 3   has_job_experience     25480 non-null  object \n",
      " 4   requires_job_training  25480 non-null  object \n",
      " 5   no_of_employees        25480 non-null  int64  \n",
      " 6   yr_of_estab            25480 non-null  int64  \n",
      " 7   region_of_employment   25480 non-null  object \n",
      " 8   prevailing_wage        25480 non-null  float64\n",
      " 9   unit_of_wage           25480 non-null  object \n",
      " 10  full_time_position     25480 non-null  object \n",
      " 11  case_status            25480 non-null  object \n",
      "dtypes: float64(1), int64(2), object(9)\n",
      "memory usage: 2.3+ MB\n"
     ]
    }
   ],
   "source": [
    "# print the data types of the columns within the datset\n",
    "df.info()"
   ]
  },
  {
   "cell_type": "code",
   "execution_count": 12,
   "id": "f9cb1957",
   "metadata": {
    "scrolled": false
   },
   "outputs": [
    {
     "data": {
      "text/html": [
       "<div>\n",
       "<style scoped>\n",
       "    .dataframe tbody tr th:only-of-type {\n",
       "        vertical-align: middle;\n",
       "    }\n",
       "\n",
       "    .dataframe tbody tr th {\n",
       "        vertical-align: top;\n",
       "    }\n",
       "\n",
       "    .dataframe thead th {\n",
       "        text-align: right;\n",
       "    }\n",
       "</style>\n",
       "<table border=\"1\" class=\"dataframe\">\n",
       "  <thead>\n",
       "    <tr style=\"text-align: right;\">\n",
       "      <th></th>\n",
       "      <th>case_id</th>\n",
       "      <th>continent</th>\n",
       "      <th>education_of_employee</th>\n",
       "      <th>has_job_experience</th>\n",
       "      <th>requires_job_training</th>\n",
       "      <th>no_of_employees</th>\n",
       "      <th>yr_of_estab</th>\n",
       "      <th>region_of_employment</th>\n",
       "      <th>prevailing_wage</th>\n",
       "      <th>unit_of_wage</th>\n",
       "      <th>full_time_position</th>\n",
       "      <th>case_status</th>\n",
       "    </tr>\n",
       "  </thead>\n",
       "  <tbody>\n",
       "  </tbody>\n",
       "</table>\n",
       "</div>"
      ],
      "text/plain": [
       "Empty DataFrame\n",
       "Columns: [case_id, continent, education_of_employee, has_job_experience, requires_job_training, no_of_employees, yr_of_estab, region_of_employment, prevailing_wage, unit_of_wage, full_time_position, case_status]\n",
       "Index: []"
      ]
     },
     "execution_count": 12,
     "metadata": {},
     "output_type": "execute_result"
    }
   ],
   "source": [
    "# checking for duplicate values\n",
    "df[df.duplicated()]"
   ]
  },
  {
   "cell_type": "markdown",
   "id": "ca84d405",
   "metadata": {
    "colab_type": "text",
    "id": "X2X_FLxThU2q"
   },
   "source": [
    "* There are no missing or duplicate values in the dataset.\n",
    "* We should convert the object type columns to categories, which reduces the memory required to store the dataframe."
   ]
  },
  {
   "cell_type": "code",
   "execution_count": 13,
   "id": "b9312fe6",
   "metadata": {
    "id": "persistent-juice"
   },
   "outputs": [],
   "source": [
    "# convert all columns with dtype object into category\n",
    "for col in df.columns[df.dtypes=='object']:\n",
    "    df[col] = df[col].astype('category')"
   ]
  },
  {
   "cell_type": "markdown",
   "id": "a4da297c",
   "metadata": {},
   "source": [
    "- There are 9 columns of the dtype object, 1 columns of the dtype float64, and 2 columns of the dtype int64.\n",
    "- The target variable for the models is *case_status*.\n",
    "- *case_id* is a randomly assigned by INA for each case, which should not provide any material information for model building."
   ]
  },
  {
   "cell_type": "code",
   "execution_count": 14,
   "id": "239154c9",
   "metadata": {},
   "outputs": [],
   "source": [
    "# drop the column *case_id* from the dataframe\n",
    "df.drop(labels='case_id', axis=1, inplace=True)"
   ]
  },
  {
   "cell_type": "code",
   "execution_count": 15,
   "id": "fe5d846b",
   "metadata": {},
   "outputs": [
    {
     "name": "stdout",
     "output_type": "stream",
     "text": [
      "<class 'pandas.core.frame.DataFrame'>\n",
      "RangeIndex: 25480 entries, 0 to 25479\n",
      "Data columns (total 11 columns):\n",
      " #   Column                 Non-Null Count  Dtype   \n",
      "---  ------                 --------------  -----   \n",
      " 0   continent              25480 non-null  category\n",
      " 1   education_of_employee  25480 non-null  category\n",
      " 2   has_job_experience     25480 non-null  category\n",
      " 3   requires_job_training  25480 non-null  category\n",
      " 4   no_of_employees        25480 non-null  int64   \n",
      " 5   yr_of_estab            25480 non-null  int64   \n",
      " 6   region_of_employment   25480 non-null  category\n",
      " 7   prevailing_wage        25480 non-null  float64 \n",
      " 8   unit_of_wage           25480 non-null  category\n",
      " 9   full_time_position     25480 non-null  category\n",
      " 10  case_status            25480 non-null  category\n",
      "dtypes: category(8), float64(1), int64(2)\n",
      "memory usage: 797.5 KB\n"
     ]
    }
   ],
   "source": [
    "# confirm conversions and dropped variable\n",
    "df.info()"
   ]
  },
  {
   "cell_type": "markdown",
   "id": "24a9605f",
   "metadata": {},
   "source": [
    "* The memory required to store the dataframe is now ~800kB, a third the size of the original dataframe."
   ]
  },
  {
   "cell_type": "markdown",
   "id": "4e627f87",
   "metadata": {
    "id": "seasonal-calibration"
   },
   "source": [
    "## Exploratory Data Analysis (EDA)"
   ]
  },
  {
   "cell_type": "markdown",
   "id": "8901e7b3",
   "metadata": {
    "id": "classified-traveler"
   },
   "source": [
    "**Leading Questions**:\n",
    "1. Those with higher education may want to travel abroad for a well-paid job. Does education play a role in Visa certification? \n",
    "\n",
    "2. How does the visa status vary across different continents? \n",
    " \n",
    "3. Experienced professionals might look abroad for opportunities to improve their lifestyles and career development. Does work experience influence visa status? \n",
    " \n",
    "4. In the United States, employees are paid at different intervals. Which pay unit is most likely to be certified for a visa? \n",
    " \n",
    "5. The US government has established a prevailing wage to protect local talent and foreign workers. How does the visa status change with the prevailing wage?"
   ]
  },
  {
   "cell_type": "markdown",
   "id": "3a2bdf69",
   "metadata": {
    "id": "right-permit"
   },
   "source": [
    "#### 1. Those with higher education may want to travel abroad for a well-paid job. Does education play a role in Visa certification? "
   ]
  },
  {
   "cell_type": "code",
   "execution_count": 16,
   "id": "84ea8c25",
   "metadata": {
    "scrolled": true
   },
   "outputs": [
    {
     "data": {
      "text/plain": [
       "education_of_employee  case_status\n",
       "Bachelor's             Certified      6367\n",
       "                       Denied         3867\n",
       "Doctorate              Certified      1912\n",
       "                       Denied          280\n",
       "High School            Denied         2256\n",
       "                       Certified      1164\n",
       "Master's               Certified      7575\n",
       "                       Denied         2059\n",
       "Name: case_status, dtype: int64"
      ]
     },
     "execution_count": 16,
     "metadata": {},
     "output_type": "execute_result"
    }
   ],
   "source": [
    "#group data by education_of_employee and count the numbers of each case_status for each category\n",
    "df.groupby('education_of_employee')['case_status'].value_counts()"
   ]
  },
  {
   "cell_type": "code",
   "execution_count": 17,
   "id": "95b439b2",
   "metadata": {},
   "outputs": [
    {
     "data": {
      "image/png": "[encoded data removed]",
      "text/plain": [
       "<Figure size 360x360 with 1 Axes>"
      ]
     },
     "metadata": {
      "needs_background": "light"
     },
     "output_type": "display_data"
    }
   ],
   "source": [
    "#create a plot of the data above, but additionally with the percent of each group within the total number of cases\n",
    "labeled_barplot(df,'education_of_employee','case_status', order=[\"High School\",\"Bachelor's\",\"Master's\",\"Doctorate\"], perc=True)"
   ]
  },
  {
   "cell_type": "markdown",
   "id": "1243d407",
   "metadata": {},
   "source": [
    "* As the graph aboves shows, the ratio of applications being certified versus denied increases considerably as an applicant's highest level of education achieved increases.\n",
    "* The ratio of an applicant with a high school diploma being approved versus denied is ~1:2, whereas the same ratio for an applicant with a doctorate is ~7:1."
   ]
  },
  {
   "cell_type": "markdown",
   "id": "b01f075e",
   "metadata": {
    "id": "right-permit"
   },
   "source": [
    "#### 2. How does the visa status vary across different continents? "
   ]
  },
  {
   "cell_type": "code",
   "execution_count": 18,
   "id": "8c42cb59",
   "metadata": {},
   "outputs": [
    {
     "data": {
      "text/plain": [
       "continent      case_status\n",
       "Africa         Certified        397\n",
       "               Denied           154\n",
       "Asia           Certified      11012\n",
       "               Denied          5849\n",
       "Europe         Certified       2957\n",
       "               Denied           775\n",
       "North America  Certified       2037\n",
       "               Denied          1255\n",
       "Oceania        Certified        122\n",
       "               Denied            70\n",
       "South America  Certified        493\n",
       "               Denied           359\n",
       "Name: case_status, dtype: int64"
      ]
     },
     "execution_count": 18,
     "metadata": {},
     "output_type": "execute_result"
    }
   ],
   "source": [
    "#group data by continent and count the numbers of each case_status for each category\n",
    "df.groupby('continent')['case_status'].value_counts()"
   ]
  },
  {
   "cell_type": "code",
   "execution_count": 19,
   "id": "3c3dc249",
   "metadata": {},
   "outputs": [
    {
     "data": {
      "image/png": "[encoded data removed]",
      "text/plain": [
       "<Figure size 504x360 with 1 Axes>"
      ]
     },
     "metadata": {
      "needs_background": "light"
     },
     "output_type": "display_data"
    }
   ],
   "source": [
    "#create a plot of the data above, but additionally with the percent of each group within the total number of cases\n",
    "labeled_barplot(df,'continent','case_status', order=None, perc=True)"
   ]
  },
  {
   "cell_type": "markdown",
   "id": "61b88422",
   "metadata": {},
   "source": [
    "* Applicants from Asia comprise ~2/3 of all applications and these applicants have almost a 2:1 ratio of approvals to denials.\n",
    "* An application from a European applicant has the best ratio of approvals to denials (~4:1)."
   ]
  },
  {
   "cell_type": "markdown",
   "id": "3406b13d",
   "metadata": {
    "id": "right-permit"
   },
   "source": [
    "#### 3. Experienced professionals might look abroad for opportunities to improve their lifestyles and career development. Does work experience influence visa status? "
   ]
  },
  {
   "cell_type": "code",
   "execution_count": 20,
   "id": "99c6dd31",
   "metadata": {},
   "outputs": [
    {
     "data": {
      "text/plain": [
       "has_job_experience  case_status\n",
       "N                   Certified       5994\n",
       "                    Denied          4684\n",
       "Y                   Certified      11024\n",
       "                    Denied          3778\n",
       "Name: case_status, dtype: int64"
      ]
     },
     "execution_count": 20,
     "metadata": {},
     "output_type": "execute_result"
    }
   ],
   "source": [
    "#group data by has_job_experience and count the numbers of each case_status for each category\n",
    "df.groupby('has_job_experience')['case_status'].value_counts()"
   ]
  },
  {
   "cell_type": "code",
   "execution_count": 21,
   "id": "4a76b956",
   "metadata": {},
   "outputs": [
    {
     "data": {
      "image/png": "[encoded data removed]",
      "text/plain": [
       "<Figure size 216x360 with 1 Axes>"
      ]
     },
     "metadata": {
      "needs_background": "light"
     },
     "output_type": "display_data"
    }
   ],
   "source": [
    "#create a plot of the data above, but additionally with the percent of each group within the total number of cases\n",
    "labeled_barplot(df,'has_job_experience','case_status', order=None, perc=True)"
   ]
  },
  {
   "cell_type": "markdown",
   "id": "584aa435",
   "metadata": {},
   "source": [
    "* Applicants with job experience have a ratio of approved to denied applications of ~3:1, whereas the same ratio for applicants without job experience have around a 5:4 ratio (i.e., approximately equivalent)."
   ]
  },
  {
   "cell_type": "markdown",
   "id": "b35a5426",
   "metadata": {
    "id": "right-permit"
   },
   "source": [
    "#### 4. In the United States, employees are paid at different intervals. Which pay unit is most likely to be certified for a visa? "
   ]
  },
  {
   "cell_type": "code",
   "execution_count": 22,
   "id": "ccae0c91",
   "metadata": {},
   "outputs": [
    {
     "data": {
      "text/plain": [
       "unit_of_wage  case_status\n",
       "Hour          Denied          1410\n",
       "              Certified        747\n",
       "Month         Certified         55\n",
       "              Denied            34\n",
       "Week          Certified        169\n",
       "              Denied           103\n",
       "Year          Certified      16047\n",
       "              Denied          6915\n",
       "Name: case_status, dtype: int64"
      ]
     },
     "execution_count": 22,
     "metadata": {},
     "output_type": "execute_result"
    }
   ],
   "source": [
    "#group data by unit_of_wage and count the numbers of each case_status for each category\n",
    "df.groupby('unit_of_wage')['case_status'].value_counts()"
   ]
  },
  {
   "cell_type": "code",
   "execution_count": 23,
   "id": "1382746d",
   "metadata": {},
   "outputs": [
    {
     "data": {
      "image/png": "[encoded data removed]",
      "text/plain": [
       "<Figure size 360x360 with 1 Axes>"
      ]
     },
     "metadata": {
      "needs_background": "light"
     },
     "output_type": "display_data"
    }
   ],
   "source": [
    "#create a plot of the data above, but additionally with the percent of each group within the total number of cases\n",
    "labeled_barplot(df,'unit_of_wage','case_status', order=None, perc=True)"
   ]
  },
  {
   "cell_type": "markdown",
   "id": "96c0dc54",
   "metadata": {},
   "source": [
    "* Applicants who are applying to work in a job with an hourly rate have a ratio of approved versus denied applications of ~1:2. Additionally, these applicants comprise only ~8% of all applications, but comprise ~17% of all denials. \n",
    "* Applicants from any other *unit_of_wage* category have a ratio of ~2:1, with applications for jobs with annual salaries showing nearly a 2.5:1 ratio of approvals to denials."
   ]
  },
  {
   "cell_type": "markdown",
   "id": "c581d001",
   "metadata": {
    "id": "alleged-spirituality"
   },
   "source": [
    "## Data Preprocessing\n",
    "\n",
    "- Feature engineering \n",
    "- Outlier detection and treatment"
   ]
  },
  {
   "cell_type": "code",
   "execution_count": 24,
   "id": "d77caf54",
   "metadata": {},
   "outputs": [
    {
     "data": {
      "text/plain": [
       "(33, 11)"
      ]
     },
     "execution_count": 24,
     "metadata": {},
     "output_type": "execute_result"
    }
   ],
   "source": [
    "#show the number of rows with a value of no_of_employees less than 0, which is not a possible value\n",
    "df[df.no_of_employees<0].shape"
   ]
  },
  {
   "cell_type": "code",
   "execution_count": 25,
   "id": "b6fdd355",
   "metadata": {},
   "outputs": [
    {
     "data": {
      "text/plain": [
       "(25447, 11)"
      ]
     },
     "execution_count": 25,
     "metadata": {},
     "output_type": "execute_result"
    }
   ],
   "source": [
    "#drop the rows with errors shown above and check the remaining number of rows\n",
    "df = df[df.no_of_employees>0]\n",
    "df.shape"
   ]
  },
  {
   "cell_type": "code",
   "execution_count": 26,
   "id": "a6fb6a8e",
   "metadata": {},
   "outputs": [
    {
     "data": {
      "text/plain": [
       "0-1000       6208\n",
       "1000-2000    5915\n",
       "2000-3000    4978\n",
       "4000+        4798\n",
       "3000-4000    3548\n",
       "Name: company_size, dtype: int64"
      ]
     },
     "execution_count": 26,
     "metadata": {},
     "output_type": "execute_result"
    }
   ],
   "source": [
    "#create bins to categorize companies by the size of their overall workforce\n",
    "bins = [0,1000,2000,3000,4000,np.Inf]\n",
    "names = ['0-1000','1000-2000','2000-3000','3000-4000','4000+']\n",
    "#assign each applicant to a category which indicates the size of the company he or she is applying to\n",
    "df['company_size'] = pd.cut(df['no_of_employees'], bins, labels=names)\n",
    "df.company_size.value_counts()"
   ]
  },
  {
   "cell_type": "code",
   "execution_count": 27,
   "id": "31e376af",
   "metadata": {
    "scrolled": true
   },
   "outputs": [
    {
     "data": {
      "text/plain": [
       "10-20    8367\n",
       "50+      5106\n",
       "0-10     4849\n",
       "30-50    3739\n",
       "20-30    3386\n",
       "Name: company_age, dtype: int64"
      ]
     },
     "execution_count": 27,
     "metadata": {},
     "output_type": "execute_result"
    }
   ],
   "source": [
    "#create bins to categorize companies by the number of years since the company was founded\n",
    "bins = [0,1966,1986,1996,2006,np.Inf]\n",
    "names = ['50+','30-50','20-30','10-20','0-10']\n",
    "#assign each applicant to a category which indicates how long the company has been in business (i.e., a proxy for how well-established the company is)\n",
    "df['company_age'] = pd.cut(df['yr_of_estab'], bins, labels=names)\n",
    "df.company_age.value_counts()"
   ]
  },
  {
   "cell_type": "markdown",
   "id": "b44dc093",
   "metadata": {
    "id": "difficult-union"
   },
   "source": [
    "## Follow-on EDA"
   ]
  },
  {
   "cell_type": "markdown",
   "id": "64768850",
   "metadata": {
    "id": "right-permit"
   },
   "source": [
    "#### 5. The US government has established a prevailing wage to protect local talent and foreign workers. How does the visa status change with the prevailing wage?"
   ]
  },
  {
   "cell_type": "code",
   "execution_count": 28,
   "id": "8bb6a48f",
   "metadata": {},
   "outputs": [
    {
     "data": {
      "text/plain": [
       "unit_of_wage\n",
       "Hour      414.77\n",
       "Month   87592.86\n",
       "Week    85606.82\n",
       "Year    81237.54\n",
       "Name: prevailing_wage, dtype: float64"
      ]
     },
     "execution_count": 28,
     "metadata": {},
     "output_type": "execute_result"
    }
   ],
   "source": [
    "#group data by unit_of_wage and calculate the mean prevailing_wage for each category\n",
    "df.groupby('unit_of_wage')['prevailing_wage'].mean()"
   ]
  },
  {
   "cell_type": "markdown",
   "id": "9bd29033",
   "metadata": {},
   "source": [
    "* The data shows that the *unit_of_wage* 'Hour' is a per-day amount, whearas the other three *unit_of_wage* categories are an annual salary amount."
   ]
  },
  {
   "cell_type": "code",
   "execution_count": 29,
   "id": "f42760a0",
   "metadata": {},
   "outputs": [
    {
     "data": {
      "image/png": "[encoded data removed]",
      "text/plain": [
       "<Figure size 432x288 with 1 Axes>"
      ]
     },
     "metadata": {
      "needs_background": "light"
     },
     "output_type": "display_data"
    }
   ],
   "source": [
    "#create a dataframe only of workers applying for jobs with a *unit_wage* of 'Hour'\n",
    "df_hourly = df[df.unit_of_wage=='Hour']\n",
    "#show a distribution of the *prevailing_wage* within this dataframe, along with the ratio of *case_status* within each bin\n",
    "sns.histplot(data=df_hourly, x='prevailing_wage', hue='case_status')\n",
    "plt.show()"
   ]
  },
  {
   "cell_type": "code",
   "execution_count": 30,
   "id": "33fc8b1c",
   "metadata": {},
   "outputs": [
    {
     "data": {
      "text/plain": [
       "income_per_day  case_status\n",
       "(0, 200]        Denied         446\n",
       "                Certified      219\n",
       "(200, 400]      Denied         300\n",
       "                Certified      166\n",
       "(400, 600]      Denied         274\n",
       "                Certified      144\n",
       "(600, 800]      Denied         238\n",
       "                Certified      116\n",
       "(800, 1000]     Denied         148\n",
       "                Certified      102\n",
       "Name: case_status, dtype: int64"
      ]
     },
     "execution_count": 30,
     "metadata": {},
     "output_type": "execute_result"
    }
   ],
   "source": [
    "#create bins that categorize applicants by the per-day wage of the job he or she is applying for\n",
    "bins = list(np.arange(0,1100,200))\n",
    "#assign each applicant to a category\n",
    "df_hourly['income_per_day'] = pd.cut(df_hourly['prevailing_wage'], bins)\n",
    "df_hourly.groupby('income_per_day')['case_status'].value_counts()"
   ]
  },
  {
   "cell_type": "code",
   "execution_count": 31,
   "id": "d80c54a4",
   "metadata": {
    "scrolled": false
   },
   "outputs": [
    {
     "data": {
      "image/png": "[encoded data removed]",
      "text/plain": [
       "<Figure size 432x360 with 1 Axes>"
      ]
     },
     "metadata": {
      "needs_background": "light"
     },
     "output_type": "display_data"
    }
   ],
   "source": [
    "#create a plot of the data above, but additionally with the percent of each group within the total number of cases\n",
    "labeled_barplot(df_hourly,'income_per_day','case_status',perc=True,order=None)"
   ]
  },
  {
   "cell_type": "markdown",
   "id": "a12d4571",
   "metadata": {},
   "source": [
    "* As the graphs above show, even within applicants for jobs with an 'Hour' *prevailing_wage*, the ratio of approved to denied applications increases considerably as *prevailing_wage* increases.\n",
    "* Even at the highest *income_per_day* category, an application is still more likely to be denied than approved."
   ]
  },
  {
   "cell_type": "code",
   "execution_count": 32,
   "id": "f5dca141",
   "metadata": {
    "scrolled": false
   },
   "outputs": [
    {
     "data": {
      "image/png": "[encoded data removed]",
      "text/plain": [
       "<Figure size 1152x432 with 1 Axes>"
      ]
     },
     "metadata": {
      "needs_background": "light"
     },
     "output_type": "display_data"
    }
   ],
   "source": [
    "#create a new dataframe of only those applicants applying for jobs with annual salaries (i.e., not 'Hour')\n",
    "df_annual = df[df.unit_of_wage != \"Hour\"]\n",
    "#show the distribution of annual salaries, along with ratio of *case_status* within each bin\n",
    "plt.figure(figsize=(16,6))\n",
    "sns.histplot(data=df_annual, x='prevailing_wage', hue='case_status')\n",
    "plt.show()"
   ]
  },
  {
   "cell_type": "markdown",
   "id": "55d2a914",
   "metadata": {},
   "source": [
    "* The distribution of wages is (as expected) right skewed, indicating a long-tail of jobs with annual salaries above 150,000 dollars.\n",
    "* As the distribution above shows, the ratio of approved to denied applications remains approximately equivalent across the range of wages."
   ]
  },
  {
   "cell_type": "code",
   "execution_count": 33,
   "id": "98fa4d53",
   "metadata": {},
   "outputs": [
    {
     "data": {
      "text/plain": [
       "income_per_year  case_status\n",
       "$0-25k           Certified      2089\n",
       "                 Denied          759\n",
       "$25k-50k         Certified      2835\n",
       "                 Denied         1232\n",
       "$50k-75k         Certified      3132\n",
       "                 Denied         1371\n",
       "$75k-100k        Certified      3011\n",
       "                 Denied         1315\n",
       "$100k-125k       Certified      2405\n",
       "                 Denied         1138\n",
       "$125k+           Certified      2782\n",
       "                 Denied         1225\n",
       "Name: case_status, dtype: int64"
      ]
     },
     "execution_count": 33,
     "metadata": {},
     "output_type": "execute_result"
    }
   ],
   "source": [
    "#create bins to categorize a job by its annual salary, which indicates how well paying the job is\n",
    "bins = [0,25000,50000,75000,100000,125000,np.inf]\n",
    "names = ['$0-25k','$25k-50k','$50k-75k','$75k-100k','$100k-125k','$125k+']\n",
    "#assign an applicant to a category\n",
    "df_annual['income_per_year'] = pd.cut(df_annual['prevailing_wage'], bins, labels=names)\n",
    "df_annual.groupby('income_per_year')['case_status'].value_counts()"
   ]
  },
  {
   "cell_type": "code",
   "execution_count": 34,
   "id": "ffe46ff9",
   "metadata": {},
   "outputs": [
    {
     "data": {
      "image/png": "[encoded data removed]",
      "text/plain": [
       "<Figure size 504x360 with 1 Axes>"
      ]
     },
     "metadata": {
      "needs_background": "light"
     },
     "output_type": "display_data"
    }
   ],
   "source": [
    "#create a plot of the data above, but additionally with the percent of each group within the total number of cases\n",
    "labeled_barplot(df_annual,'income_per_year','case_status',perc=True,order=None)"
   ]
  },
  {
   "cell_type": "markdown",
   "id": "c6fba1c5",
   "metadata": {},
   "source": [
    "* In support of the observation above, there does not appear to be a significant change in ratio of approved to denied applications as *income_per_year* increases. To the contrary, the ratio may actually decrease as this *prevailing_wage* increases.\n",
    "* For applications for jobs with an *income_per_year* wage, the highest concentration of applications is for jobs with 50,000 to 75,000 dollars per year in salary."
   ]
  },
  {
   "cell_type": "markdown",
   "id": "e9939951",
   "metadata": {},
   "source": [
    "### Summary of int64 variables"
   ]
  },
  {
   "cell_type": "code",
   "execution_count": 35,
   "id": "99f185f8",
   "metadata": {
    "scrolled": false
   },
   "outputs": [
    {
     "data": {
      "text/html": [
       "<div>\n",
       "<style scoped>\n",
       "    .dataframe tbody tr th:only-of-type {\n",
       "        vertical-align: middle;\n",
       "    }\n",
       "\n",
       "    .dataframe tbody tr th {\n",
       "        vertical-align: top;\n",
       "    }\n",
       "\n",
       "    .dataframe thead th {\n",
       "        text-align: right;\n",
       "    }\n",
       "</style>\n",
       "<table border=\"1\" class=\"dataframe\">\n",
       "  <thead>\n",
       "    <tr style=\"text-align: right;\">\n",
       "      <th></th>\n",
       "      <th>count</th>\n",
       "      <th>mean</th>\n",
       "      <th>std</th>\n",
       "      <th>min</th>\n",
       "      <th>25%</th>\n",
       "      <th>50%</th>\n",
       "      <th>75%</th>\n",
       "      <th>max</th>\n",
       "    </tr>\n",
       "  </thead>\n",
       "  <tbody>\n",
       "    <tr>\n",
       "      <th>no_of_employees</th>\n",
       "      <td>25447.00</td>\n",
       "      <td>5674.42</td>\n",
       "      <td>22891.84</td>\n",
       "      <td>12.00</td>\n",
       "      <td>1025.00</td>\n",
       "      <td>2112.00</td>\n",
       "      <td>3506.50</td>\n",
       "      <td>602069.00</td>\n",
       "    </tr>\n",
       "    <tr>\n",
       "      <th>yr_of_estab</th>\n",
       "      <td>25447.00</td>\n",
       "      <td>1979.39</td>\n",
       "      <td>42.39</td>\n",
       "      <td>1800.00</td>\n",
       "      <td>1976.00</td>\n",
       "      <td>1997.00</td>\n",
       "      <td>2005.00</td>\n",
       "      <td>2016.00</td>\n",
       "    </tr>\n",
       "  </tbody>\n",
       "</table>\n",
       "</div>"
      ],
      "text/plain": [
       "                   count    mean      std     min     25%     50%     75%  \\\n",
       "no_of_employees 25447.00 5674.42 22891.84   12.00 1025.00 2112.00 3506.50   \n",
       "yr_of_estab     25447.00 1979.39    42.39 1800.00 1976.00 1997.00 2005.00   \n",
       "\n",
       "                      max  \n",
       "no_of_employees 602069.00  \n",
       "yr_of_estab       2016.00  "
      ]
     },
     "execution_count": 35,
     "metadata": {},
     "output_type": "execute_result"
    }
   ],
   "source": [
    "#provide summary statistics of all float64 variables\n",
    "df.describe(include = ['int64']).T"
   ]
  },
  {
   "cell_type": "code",
   "execution_count": 36,
   "id": "d01dee8e",
   "metadata": {
    "scrolled": false
   },
   "outputs": [
    {
     "data": {
      "image/png": "[encoded data removed]",
      "text/plain": [
       "<Figure size 1152x432 with 2 Axes>"
      ]
     },
     "metadata": {
      "needs_background": "light"
     },
     "output_type": "display_data"
    }
   ],
   "source": [
    "#provide histogram and boxplots\n",
    "histogram_boxplot(df, 'no_of_employees')"
   ]
  },
  {
   "cell_type": "markdown",
   "id": "c2c7e69e",
   "metadata": {},
   "source": [
    "* The data and graphs above, indicate the distribution of companies by number of employee is heavily right skewed, but without any outlier values that require further investigation or treatment."
   ]
  },
  {
   "cell_type": "code",
   "execution_count": 37,
   "id": "b537dae9",
   "metadata": {
    "scrolled": true
   },
   "outputs": [
    {
     "data": {
      "image/png": "[encoded data removed]",
      "text/plain": [
       "<Figure size 1152x432 with 2 Axes>"
      ]
     },
     "metadata": {
      "needs_background": "light"
     },
     "output_type": "display_data"
    }
   ],
   "source": [
    "histogram_boxplot(df, 'yr_of_estab')"
   ]
  },
  {
   "cell_type": "markdown",
   "id": "381ec58a",
   "metadata": {},
   "source": [
    "* The data and graphs above, indicate the distribution of companies by year of establishment (i.e., founding) is heavily left skewed, but without any outlier values which require further investigation or treatment."
   ]
  },
  {
   "cell_type": "markdown",
   "id": "79acb5b0",
   "metadata": {},
   "source": [
    "### Summary of float64 variables"
   ]
  },
  {
   "cell_type": "code",
   "execution_count": 38,
   "id": "277897c8",
   "metadata": {
    "scrolled": false
   },
   "outputs": [
    {
     "data": {
      "text/html": [
       "<div>\n",
       "<style scoped>\n",
       "    .dataframe tbody tr th:only-of-type {\n",
       "        vertical-align: middle;\n",
       "    }\n",
       "\n",
       "    .dataframe tbody tr th {\n",
       "        vertical-align: top;\n",
       "    }\n",
       "\n",
       "    .dataframe thead th {\n",
       "        text-align: right;\n",
       "    }\n",
       "</style>\n",
       "<table border=\"1\" class=\"dataframe\">\n",
       "  <thead>\n",
       "    <tr style=\"text-align: right;\">\n",
       "      <th></th>\n",
       "      <th>count</th>\n",
       "      <th>mean</th>\n",
       "      <th>std</th>\n",
       "      <th>min</th>\n",
       "      <th>25%</th>\n",
       "      <th>50%</th>\n",
       "      <th>75%</th>\n",
       "      <th>max</th>\n",
       "    </tr>\n",
       "  </thead>\n",
       "  <tbody>\n",
       "    <tr>\n",
       "      <th>prevailing_wage</th>\n",
       "      <td>23294.00</td>\n",
       "      <td>81312.84</td>\n",
       "      <td>49943.37</td>\n",
       "      <td>100.00</td>\n",
       "      <td>43860.93</td>\n",
       "      <td>76257.68</td>\n",
       "      <td>111414.45</td>\n",
       "      <td>319210.27</td>\n",
       "    </tr>\n",
       "  </tbody>\n",
       "</table>\n",
       "</div>"
      ],
      "text/plain": [
       "                   count     mean      std    min      25%      50%       75%  \\\n",
       "prevailing_wage 23294.00 81312.84 49943.37 100.00 43860.93 76257.68 111414.45   \n",
       "\n",
       "                      max  \n",
       "prevailing_wage 319210.27  "
      ]
     },
     "execution_count": 38,
     "metadata": {},
     "output_type": "execute_result"
    }
   ],
   "source": [
    "#provide summary statistics of all float64 variables\n",
    "df_annual.describe(include = ['float64']).T"
   ]
  },
  {
   "cell_type": "code",
   "execution_count": 39,
   "id": "f354e772",
   "metadata": {
    "scrolled": false
   },
   "outputs": [
    {
     "data": {
      "image/png": "[encoded data removed]",
      "text/plain": [
       "<Figure size 1152x432 with 2 Axes>"
      ]
     },
     "metadata": {
      "needs_background": "light"
     },
     "output_type": "display_data"
    }
   ],
   "source": [
    "#provide histogram and boxplot\n",
    "histogram_boxplot(df_annual,'prevailing_wage')"
   ]
  },
  {
   "cell_type": "code",
   "execution_count": 40,
   "id": "e2a3c521",
   "metadata": {
    "scrolled": false
   },
   "outputs": [
    {
     "data": {
      "text/html": [
       "<div>\n",
       "<style scoped>\n",
       "    .dataframe tbody tr th:only-of-type {\n",
       "        vertical-align: middle;\n",
       "    }\n",
       "\n",
       "    .dataframe tbody tr th {\n",
       "        vertical-align: top;\n",
       "    }\n",
       "\n",
       "    .dataframe thead th {\n",
       "        text-align: right;\n",
       "    }\n",
       "</style>\n",
       "<table border=\"1\" class=\"dataframe\">\n",
       "  <thead>\n",
       "    <tr style=\"text-align: right;\">\n",
       "      <th></th>\n",
       "      <th>count</th>\n",
       "      <th>mean</th>\n",
       "      <th>std</th>\n",
       "      <th>min</th>\n",
       "      <th>25%</th>\n",
       "      <th>50%</th>\n",
       "      <th>75%</th>\n",
       "      <th>max</th>\n",
       "    </tr>\n",
       "  </thead>\n",
       "  <tbody>\n",
       "    <tr>\n",
       "      <th>prevailing_wage</th>\n",
       "      <td>2153.00</td>\n",
       "      <td>414.77</td>\n",
       "      <td>275.05</td>\n",
       "      <td>2.14</td>\n",
       "      <td>152.70</td>\n",
       "      <td>373.20</td>\n",
       "      <td>637.31</td>\n",
       "      <td>999.92</td>\n",
       "    </tr>\n",
       "  </tbody>\n",
       "</table>\n",
       "</div>"
      ],
      "text/plain": [
       "                  count   mean    std  min    25%    50%    75%    max\n",
       "prevailing_wage 2153.00 414.77 275.05 2.14 152.70 373.20 637.31 999.92"
      ]
     },
     "execution_count": 40,
     "metadata": {},
     "output_type": "execute_result"
    }
   ],
   "source": [
    "#provide summary statistics of all float64 variables\n",
    "df_hourly.describe(include = ['float64']).T"
   ]
  },
  {
   "cell_type": "code",
   "execution_count": 41,
   "id": "39b1b8de",
   "metadata": {
    "scrolled": true
   },
   "outputs": [
    {
     "data": {
      "image/png": "[encoded data removed]",
      "text/plain": [
       "<Figure size 1152x432 with 2 Axes>"
      ]
     },
     "metadata": {
      "needs_background": "light"
     },
     "output_type": "display_data"
    }
   ],
   "source": [
    "#provide histogram and boxplot\n",
    "histogram_boxplot(df_hourly,'prevailing_wage')"
   ]
  },
  {
   "cell_type": "markdown",
   "id": "5f455603",
   "metadata": {},
   "source": [
    "## Bivariate Analysis"
   ]
  },
  {
   "cell_type": "code",
   "execution_count": 42,
   "id": "ad6b4c56",
   "metadata": {
    "scrolled": true
   },
   "outputs": [
    {
     "name": "stdout",
     "output_type": "stream",
     "text": [
      "continent    Africa   Asia  Europe  North America  Oceania  South America  \\\n",
      "case_status                                                                 \n",
      "All             550  16840    3727           3287      192            851   \n",
      "Certified       396  11001    2953           2037      122            492   \n",
      "Denied          154   5839     774           1250       70            359   \n",
      "\n",
      "continent      All  \n",
      "case_status         \n",
      "All          25447  \n",
      "Certified    17001  \n",
      "Denied        8446  \n",
      "------------------------------------------------------------------------------------------------------------------------\n"
     ]
    },
    {
     "data": {
      "image/png": "[encoded data removed]",
      "text/plain": [
       "<Figure size 216x360 with 1 Axes>"
      ]
     },
     "metadata": {
      "needs_background": "light"
     },
     "output_type": "display_data"
    },
    {
     "name": "stdout",
     "output_type": "stream",
     "text": [
      "education_of_employee  Bachelor's  Doctorate  High School  Master's    All\n",
      "case_status                                                               \n",
      "All                         10220       2189         3416      9622  25447\n",
      "Certified                    6362       1910         1164      7565  17001\n",
      "Denied                       3858        279         2252      2057   8446\n",
      "------------------------------------------------------------------------------------------------------------------------\n"
     ]
    },
    {
     "data": {
      "image/png": "[encoded data removed]",
      "text/plain": [
       "<Figure size 216x360 with 1 Axes>"
      ]
     },
     "metadata": {
      "needs_background": "light"
     },
     "output_type": "display_data"
    },
    {
     "name": "stdout",
     "output_type": "stream",
     "text": [
      "has_job_experience      N      Y    All\n",
      "case_status                            \n",
      "All                 10661  14786  25447\n",
      "Certified            5986  11015  17001\n",
      "Denied               4675   3771   8446\n",
      "------------------------------------------------------------------------------------------------------------------------\n"
     ]
    },
    {
     "data": {
      "image/png": "[encoded data removed]",
      "text/plain": [
       "<Figure size 216x360 with 1 Axes>"
      ]
     },
     "metadata": {
      "needs_background": "light"
     },
     "output_type": "display_data"
    },
    {
     "name": "stdout",
     "output_type": "stream",
     "text": [
      "requires_job_training      N     Y    All\n",
      "case_status                              \n",
      "All                    22498  2949  25447\n",
      "Certified              15000  2001  17001\n",
      "Denied                  7498   948   8446\n",
      "------------------------------------------------------------------------------------------------------------------------\n"
     ]
    },
    {
     "data": {
      "image/png": "[encoded data removed]",
      "text/plain": [
       "<Figure size 216x360 with 1 Axes>"
      ]
     },
     "metadata": {
      "needs_background": "light"
     },
     "output_type": "display_data"
    },
    {
     "name": "stdout",
     "output_type": "stream",
     "text": [
      "region_of_employment  Island  Midwest  Northeast  South  West    All\n",
      "case_status                                                         \n",
      "All                      375     4299       7189   7006  6578  25447\n",
      "Certified                226     3246       4524   4908  4097  17001\n",
      "Denied                   149     1053       2665   2098  2481   8446\n",
      "------------------------------------------------------------------------------------------------------------------------\n"
     ]
    },
    {
     "data": {
      "image/png": "[encoded data removed]",
      "text/plain": [
       "<Figure size 216x360 with 1 Axes>"
      ]
     },
     "metadata": {
      "needs_background": "light"
     },
     "output_type": "display_data"
    },
    {
     "name": "stdout",
     "output_type": "stream",
     "text": [
      "unit_of_wage  Hour  Month  Week   Year    All\n",
      "case_status                                  \n",
      "All           2153     89   272  22933  25447\n",
      "Certified      747     55   169  16030  17001\n",
      "Denied        1406     34   103   6903   8446\n",
      "------------------------------------------------------------------------------------------------------------------------\n"
     ]
    },
    {
     "data": {
      "image/png": "[encoded data removed]",
      "text/plain": [
       "<Figure size 216x360 with 1 Axes>"
      ]
     },
     "metadata": {
      "needs_background": "light"
     },
     "output_type": "display_data"
    },
    {
     "name": "stdout",
     "output_type": "stream",
     "text": [
      "full_time_position     N      Y    All\n",
      "case_status                           \n",
      "All                 2706  22741  25447\n",
      "Certified           1855  15146  17001\n",
      "Denied               851   7595   8446\n",
      "------------------------------------------------------------------------------------------------------------------------\n"
     ]
    },
    {
     "data": {
      "image/png": "[encoded data removed]",
      "text/plain": [
       "<Figure size 216x360 with 1 Axes>"
      ]
     },
     "metadata": {
      "needs_background": "light"
     },
     "output_type": "display_data"
    },
    {
     "name": "stdout",
     "output_type": "stream",
     "text": [
      "case_status  Certified  Denied    All\n",
      "case_status                          \n",
      "Denied               0    8446   8446\n",
      "All              17001    8446  25447\n",
      "Certified        17001       0  17001\n",
      "------------------------------------------------------------------------------------------------------------------------\n"
     ]
    },
    {
     "data": {
      "image/png": "[encoded data removed]",
      "text/plain": [
       "<Figure size 216x360 with 1 Axes>"
      ]
     },
     "metadata": {
      "needs_background": "light"
     },
     "output_type": "display_data"
    },
    {
     "name": "stdout",
     "output_type": "stream",
     "text": [
      "company_size  0-1000  1000-2000  2000-3000  3000-4000  4000+    All\n",
      "case_status                                                        \n",
      "All             6208       5915       4978       3548   4798  25447\n",
      "Certified       4091       3878       3330       2341   3361  17001\n",
      "Denied          2117       2037       1648       1207   1437   8446\n",
      "------------------------------------------------------------------------------------------------------------------------\n"
     ]
    },
    {
     "data": {
      "image/png": "[encoded data removed]",
      "text/plain": [
       "<Figure size 216x360 with 1 Axes>"
      ]
     },
     "metadata": {
      "needs_background": "light"
     },
     "output_type": "display_data"
    },
    {
     "name": "stdout",
     "output_type": "stream",
     "text": [
      "company_age   50+  30-50  20-30  10-20  0-10    All\n",
      "case_status                                        \n",
      "All          5106   3739   3386   8367  4849  25447\n",
      "Certified    3385   2466   2226   5567  3357  17001\n",
      "Denied       1721   1273   1160   2800  1492   8446\n",
      "------------------------------------------------------------------------------------------------------------------------\n"
     ]
    },
    {
     "data": {
      "image/png": "[encoded data removed]",
      "text/plain": [
       "<Figure size 216x360 with 1 Axes>"
      ]
     },
     "metadata": {
      "needs_background": "light"
     },
     "output_type": "display_data"
    }
   ],
   "source": [
    "#create a table and stacked barplot for each variable with a data type of category by case_status\n",
    "cols_cat = df.select_dtypes(['category'])\n",
    "for i in cols_cat.columns:\n",
    "    stacked_barplot(df, \"case_status\", i)"
   ]
  },
  {
   "cell_type": "code",
   "execution_count": 43,
   "id": "68c3b566",
   "metadata": {},
   "outputs": [
    {
     "data": {
      "image/png": "[encoded data removed]",
      "text/plain": [
       "<Figure size 432x360 with 1 Axes>"
      ]
     },
     "metadata": {
      "needs_background": "light"
     },
     "output_type": "display_data"
    }
   ],
   "source": [
    "#create a barplot of region of employment for an applicant's job with the corresponding percent of approved and denied cases for each\n",
    "labeled_barplot(df_annual,'region_of_employment','case_status',perc=True,order=None)"
   ]
  },
  {
   "cell_type": "code",
   "execution_count": 44,
   "id": "583c9c62",
   "metadata": {},
   "outputs": [
    {
     "data": {
      "image/png": "[encoded data removed]",
      "text/plain": [
       "<Figure size 432x360 with 1 Axes>"
      ]
     },
     "metadata": {
      "needs_background": "light"
     },
     "output_type": "display_data"
    }
   ],
   "source": [
    "#create a barplot of size of the company that an applicant is applying for with the corresponding percent of approved and denied cases for each\n",
    "labeled_barplot(df_annual,'company_size','case_status',perc=True,order=None)"
   ]
  },
  {
   "cell_type": "code",
   "execution_count": 45,
   "id": "c74cc33d",
   "metadata": {},
   "outputs": [
    {
     "data": {
      "image/png": "[encoded data removed]",
      "text/plain": [
       "<Figure size 432x360 with 1 Axes>"
      ]
     },
     "metadata": {
      "needs_background": "light"
     },
     "output_type": "display_data"
    }
   ],
   "source": [
    "#create a barplot of region of employment for an applicant's job with the corresponding percent of approved and denied cases for each\n",
    "labeled_barplot(df_annual,'company_age','case_status',perc=True,order=None)"
   ]
  },
  {
   "cell_type": "code",
   "execution_count": 46,
   "id": "65500925",
   "metadata": {
    "scrolled": true
   },
   "outputs": [
    {
     "name": "stdout",
     "output_type": "stream",
     "text": [
      "continent\n",
      "Africa          82817.44\n",
      "Asia            86237.72\n",
      "Europe          62148.78\n",
      "North America   80015.78\n",
      "Oceania         83806.39\n",
      "South America   73641.62\n",
      "Name: prevailing_wage, dtype: float64\n",
      " \n",
      "education_of_employee\n",
      "Bachelor's    81153.74\n",
      "Doctorate     67498.27\n",
      "High School   80905.55\n",
      "Master's      84849.96\n",
      "Name: prevailing_wage, dtype: float64\n",
      " \n",
      "has_job_experience\n",
      "N   86478.62\n",
      "Y   77881.05\n",
      "Name: prevailing_wage, dtype: float64\n",
      " \n",
      "requires_job_training\n",
      "N   80867.28\n",
      "Y   84473.58\n",
      "Name: prevailing_wage, dtype: float64\n",
      " \n",
      "region_of_employment\n",
      "Island      96323.02\n",
      "Midwest     94900.09\n",
      "Northeast   77091.74\n",
      "South       82174.41\n",
      "West        74720.82\n",
      "Name: prevailing_wage, dtype: float64\n",
      " \n",
      "unit_of_wage\n",
      "Hour         nan\n",
      "Month   87592.86\n",
      "Week    85606.82\n",
      "Year    81237.54\n",
      "Name: prevailing_wage, dtype: float64\n",
      " \n",
      "full_time_position\n",
      "N   105484.60\n",
      "Y    78161.02\n",
      "Name: prevailing_wage, dtype: float64\n",
      " \n",
      "case_status\n",
      "Certified   80816.02\n",
      "Denied      82459.91\n",
      "Name: prevailing_wage, dtype: float64\n",
      " \n",
      "company_size\n",
      "0-1000      83771.03\n",
      "1000-2000   82275.52\n",
      "2000-3000   83759.38\n",
      "3000-4000   80083.01\n",
      "4000+       75600.38\n",
      "Name: prevailing_wage, dtype: float64\n",
      " \n",
      "company_age\n",
      "50+     81273.99\n",
      "30-50   82004.74\n",
      "20-30   80962.70\n",
      "10-20   81613.29\n",
      "0-10    80552.43\n",
      "Name: prevailing_wage, dtype: float64\n",
      " \n",
      "income_per_year\n",
      "$0-25k        13113.11\n",
      "$25k-50k      38072.93\n",
      "$50k-75k      62637.38\n",
      "$75k-100k     87275.88\n",
      "$100k-125k   111915.85\n",
      "$125k+       161163.76\n",
      "Name: prevailing_wage, dtype: float64\n",
      " \n"
     ]
    }
   ],
   "source": [
    "#create tables listing the mean wage for each unique value within each variable with a data type category\n",
    "for col in df_annual.dtypes[df_annual.dtypes == 'category'].index:\n",
    "    print(df_annual.groupby(col)['prevailing_wage'].mean())\n",
    "    print(\" \")"
   ]
  },
  {
   "cell_type": "code",
   "execution_count": 47,
   "id": "d9f470e5",
   "metadata": {
    "scrolled": true
   },
   "outputs": [
    {
     "name": "stdout",
     "output_type": "stream",
     "text": [
      "continent\n",
      "Africa          399.13\n",
      "Asia            421.97\n",
      "Europe          398.23\n",
      "North America   406.39\n",
      "Oceania         477.20\n",
      "South America   392.17\n",
      "Name: prevailing_wage, dtype: float64\n",
      " \n",
      "education_of_employee\n",
      "Bachelor's    413.02\n",
      "Doctorate     414.55\n",
      "High School   418.06\n",
      "Master's      415.42\n",
      "Name: prevailing_wage, dtype: float64\n",
      " \n",
      "has_job_experience\n",
      "N   414.31\n",
      "Y   415.57\n",
      "Name: prevailing_wage, dtype: float64\n",
      " \n",
      "requires_job_training\n",
      "N   415.88\n",
      "Y   382.34\n",
      "Name: prevailing_wage, dtype: float64\n",
      " \n",
      "region_of_employment\n",
      "Island      275.65\n",
      "Midwest     427.30\n",
      "Northeast   406.65\n",
      "South       426.43\n",
      "West        413.82\n",
      "Name: prevailing_wage, dtype: float64\n",
      " \n",
      "unit_of_wage\n",
      "Hour    414.77\n",
      "Month      nan\n",
      "Week       nan\n",
      "Year       nan\n",
      "Name: prevailing_wage, dtype: float64\n",
      " \n",
      "full_time_position\n",
      "N   488.47\n",
      "Y   414.12\n",
      "Name: prevailing_wage, dtype: float64\n",
      " \n",
      "case_status\n",
      "Certified   424.92\n",
      "Denied      409.38\n",
      "Name: prevailing_wage, dtype: float64\n",
      " \n",
      "company_size\n",
      "0-1000      391.91\n",
      "1000-2000   433.71\n",
      "2000-3000   415.45\n",
      "3000-4000   400.65\n",
      "4000+       441.46\n",
      "Name: prevailing_wage, dtype: float64\n",
      " \n",
      "company_age\n",
      "50+     415.77\n",
      "30-50   430.93\n",
      "20-30   396.79\n",
      "10-20   406.01\n",
      "0-10    429.35\n",
      "Name: prevailing_wage, dtype: float64\n",
      " \n",
      "income_per_day\n",
      "(0, 200]      111.90\n",
      "(200, 400]    297.49\n",
      "(400, 600]    500.06\n",
      "(600, 800]    698.38\n",
      "(800, 1000]   894.85\n",
      "Name: prevailing_wage, dtype: float64\n",
      " \n"
     ]
    }
   ],
   "source": [
    "#create tables listing the mean wage for each unique value within each variable with a data type category\n",
    "for col in df_hourly.dtypes[df_hourly.dtypes == 'category'].index:\n",
    "    print(df_hourly.groupby(col)['prevailing_wage'].mean())\n",
    "    print(\" \")"
   ]
  },
  {
   "cell_type": "markdown",
   "id": "7a420127",
   "metadata": {},
   "source": [
    "#### Additional EDA observations\n",
    "* In addition to the analysis above on the ratio of approved to denied applications by education, previous job experience, continent, prevailing wage, and unit of wage:\n",
    "    * If a job does or does not require training does not affect this ratio.\n",
    "    * If a job is a full-time position or not does not affect this ratio.\n",
    "    * If a job is located in the Midwest or South region, applicants have a higher ratio of approvals than those in the Northeast, West, and particularly the Island region.\n",
    "    * Jobs that applicants with doctorate degree are applying for jobs have the lowest mean prevailing wage of any education.\n",
    "    * Temporary (i.e., not full-time) jobs that applicants are applying for have a significantly higher prevailing wage than full-time positions."
   ]
  },
  {
   "cell_type": "markdown",
   "id": "77df43bd",
   "metadata": {
    "id": "alleged-spirituality"
   },
   "source": [
    "## Data Preprocessing\n",
    "\n",
    "- Preparing data for modeling \n",
    "- Splitting the data"
   ]
  },
  {
   "cell_type": "code",
   "execution_count": 48,
   "id": "53242a7b",
   "metadata": {},
   "outputs": [],
   "source": [
    "#drop the int_64 columns from the dataframe, since this information is captured through the features engineered above\n",
    "df_model = df.drop(labels=['no_of_employees','yr_of_estab'], axis=1, inplace=True)"
   ]
  },
  {
   "cell_type": "markdown",
   "id": "d39d9911",
   "metadata": {},
   "source": [
    "#### Encoding Certified as 1 and Denied as 0, as the OFLC wants to identify those visa applicants who are predicted to be approved."
   ]
  },
  {
   "cell_type": "code",
   "execution_count": 49,
   "id": "3d3dbb6a",
   "metadata": {},
   "outputs": [],
   "source": [
    "df[\"case_status\"] = df[\"case_status\"].apply(lambda x: 1 if x == \"Certified\" else 0)"
   ]
  },
  {
   "cell_type": "markdown",
   "id": "0bbb317f",
   "metadata": {
    "_cell_guid": "5e39d0b7-2f26-4d26-8a8d-6d0da0e22594",
    "_execution_state": "idle",
    "_uuid": "3c5ea745d170940b3d831b6e128959c87f8c117f"
   },
   "source": [
    "### Spliting the data \n",
    "We will use 70% of data for training and 30% for testing."
   ]
  },
  {
   "cell_type": "code",
   "execution_count": 50,
   "id": "76f19d9a",
   "metadata": {
    "_cell_guid": "5a9250a4-7c26-4770-943e-234568a37be3",
    "_execution_state": "idle",
    "_uuid": "00a1d497bd1fcae2c3500540bede6d2bbf25ab54"
   },
   "outputs": [],
   "source": [
    "#create a dataframe of the predictor feature columns\n",
    "X = df.drop('case_status',axis=1)\n",
    "#create a datafrane of the predicted class (1=True, 0=False)\n",
    "Y = df['case_status']\n",
    "\n",
    "#generate dummy variables for each categorical variable\n",
    "X = pd.get_dummies(X, drop_first=True)\n",
    "\n",
    "#split the data into train and test datasets\n",
    "x_train, x_test, y_train, y_test = train_test_split(X, Y, test_size=0.3, random_state=1)"
   ]
  },
  {
   "cell_type": "code",
   "execution_count": 51,
   "id": "f09a11ab",
   "metadata": {
    "_execution_state": "idle",
    "_uuid": "34188146c68af804a7df3cf0e3e33ed79d096985"
   },
   "outputs": [
    {
     "name": "stdout",
     "output_type": "stream",
     "text": [
      "70.00% data is in training set\n",
      "30.00% data is in test set\n"
     ]
    }
   ],
   "source": [
    "#confirm the split\n",
    "print(\"{0:0.2f}% data is in training set\".format((len(x_train)/len(df.index)) * 100))\n",
    "print(\"{0:0.2f}% data is in test set\".format((len(x_test)/len(df.index)) * 100))"
   ]
  },
  {
   "cell_type": "code",
   "execution_count": 52,
   "id": "6a2385ca",
   "metadata": {
    "_execution_state": "idle",
    "_uuid": "eca76e428776a0897acf958ad9791abd06700fe7",
    "scrolled": true
   },
   "outputs": [
    {
     "name": "stdout",
     "output_type": "stream",
     "text": [
      "Shape of Training set :  (17812, 27)\n",
      "Shape of test set :  (7635, 27)\n",
      " \n",
      "Percentage of classes in training set:\n",
      "1   0.67\n",
      "0   0.33\n",
      "Name: case_status, dtype: float64\n",
      " \n",
      "Percentage of classes in test set:\n",
      "1   0.67\n",
      "0   0.33\n",
      "Name: case_status, dtype: float64\n"
     ]
    }
   ],
   "source": [
    "#confirm the shape of both data sets and the ratio of classes is the same across both train and test datasets\n",
    "print(\"Shape of Training set : \", x_train.shape)\n",
    "print(\"Shape of test set : \", x_test.shape)\n",
    "print(' ')\n",
    "print(\"Percentage of classes in training set:\")\n",
    "print(y_train.value_counts(normalize=True))\n",
    "print(' ')\n",
    "print(\"Percentage of classes in test set:\")\n",
    "print(y_test.value_counts(normalize=True))"
   ]
  },
  {
   "cell_type": "markdown",
   "id": "2939c3af",
   "metadata": {
    "id": "domestic-iceland"
   },
   "source": [
    "## Bagging and Boosting models"
   ]
  },
  {
   "cell_type": "markdown",
   "id": "32bfcdb3",
   "metadata": {},
   "source": [
    "### Model evaluation criterion\n",
    "\n",
    "#### Model can make wrong predictions as:\n",
    "1. Predicting an applicant should be approved the applicant is denied.\n",
    "2. Predicting an applicant should be denied and the applicant is approved.\n",
    "\n",
    "#### Which case is more important? \n",
    "* Both are important:\n",
    "    * If an applicant is approved when they would have been denied, an unqualified employee will get a job that should have been filled by a US citizen.\n",
    "    * If an applicant is denied when they should have been approved, U.S. companies will not be able to fill critical positions and the overall economy will not be as productive.\n",
    "\n",
    "#### How to reduce the losses?\n",
    "* As the process of reviewing each application is time and resource-intensive, this model should identify those candidates predicted to be approved, so agents can prioritize these applications.\n",
    "* F1 Score can be used a the metric for evaluation of the model, as the greater the F1 score, the higher the chances of minimizing False Negatives and False Positives.\n",
    "* We will use balanced class weights, where applicable, so that model focuses equally on both classes.\n"
   ]
  },
  {
   "cell_type": "markdown",
   "id": "95d60c13",
   "metadata": {},
   "source": [
    "#### Defining functions to provide metric scores (i.e., accuracy, recall, and precision) on the train and test datasets and to show the resulting confusion matrices."
   ]
  },
  {
   "cell_type": "code",
   "execution_count": 53,
   "id": "faa6ddcd",
   "metadata": {},
   "outputs": [],
   "source": [
    "# defining a function to compute different metrics to check performance of a classification model built using sklearn\n",
    "def model_performance_classification_sklearn(model, predictors, target):\n",
    "    \"\"\"\n",
    "    Function to compute different metrics to check classification model performance\n",
    "\n",
    "    model: classifier\n",
    "    predictors: independent variables\n",
    "    target: dependent variable\n",
    "    \"\"\"\n",
    "\n",
    "    # predicting using the independent variables\n",
    "    pred = model.predict(predictors)\n",
    "\n",
    "    acc = accuracy_score(target, pred)  # to compute Accuracy\n",
    "    recall = recall_score(target, pred)  # to compute Recall\n",
    "    precision = precision_score(target, pred)  # to compute Precision\n",
    "    f1 = f1_score(target, pred)  # to compute F1-score\n",
    "\n",
    "    # creating a dataframe of metrics\n",
    "    df_perf = pd.DataFrame(\n",
    "        {\n",
    "            \"Accuracy\": acc,\n",
    "            \"Recall\": recall,\n",
    "            \"Precision\": precision,\n",
    "            \"F1\": f1,\n",
    "        },\n",
    "        index=[0],\n",
    "    )\n",
    "\n",
    "    return df_perf"
   ]
  },
  {
   "cell_type": "code",
   "execution_count": 54,
   "id": "69b4dc24",
   "metadata": {},
   "outputs": [],
   "source": [
    "def confusion_matrix_sklearn(model, predictors, target):\n",
    "    \"\"\"\n",
    "    To plot the confusion_matrix with percentages\n",
    "\n",
    "    model: classifier\n",
    "    predictors: independent variables\n",
    "    target: dependent variable\n",
    "    \"\"\"\n",
    "    y_pred = model.predict(predictors)\n",
    "    cm = confusion_matrix(target, y_pred)\n",
    "    labels = np.asarray(\n",
    "        [\n",
    "            [\"{0:0.0f}\".format(item) + \"\\n{0:.2%}\".format(item / cm.flatten().sum())]\n",
    "            for item in cm.flatten()\n",
    "        ]\n",
    "    ).reshape(2, 2)\n",
    "\n",
    "    plt.figure(figsize=(6, 4))\n",
    "    sns.heatmap(cm, annot=labels, fmt=\"\")\n",
    "    plt.ylabel(\"True label\")\n",
    "    plt.xlabel(\"Predicted label\")"
   ]
  },
  {
   "cell_type": "markdown",
   "id": "7634e1cf",
   "metadata": {
    "id": "U_imjVzRxLQC"
   },
   "source": [
    "### Decision Tree Model"
   ]
  },
  {
   "cell_type": "markdown",
   "id": "8da84ba2",
   "metadata": {
    "id": "fUTe3bPVxLQD"
   },
   "source": [
    "* We will build our model using the DecisionTreeClassifier function, using default 'gini' criteria to split. "
   ]
  },
  {
   "cell_type": "code",
   "execution_count": 55,
   "id": "96b22c39",
   "metadata": {
    "id": "LYsH6SEbR2Zv"
   },
   "outputs": [],
   "source": [
    "dtree = DecisionTreeClassifier(criterion='gini', random_state=1, class_weight='balanced')"
   ]
  },
  {
   "cell_type": "code",
   "execution_count": 56,
   "id": "3a8b8650",
   "metadata": {},
   "outputs": [
    {
     "data": {
      "text/plain": [
       "DecisionTreeClassifier(ccp_alpha=0.0, class_weight='balanced', criterion='gini',\n",
       "                       max_depth=None, max_features=None, max_leaf_nodes=None,\n",
       "                       min_impurity_decrease=0.0, min_impurity_split=None,\n",
       "                       min_samples_leaf=1, min_samples_split=2,\n",
       "                       min_weight_fraction_leaf=0.0, presort='deprecated',\n",
       "                       random_state=1, splitter='best')"
      ]
     },
     "execution_count": 56,
     "metadata": {},
     "output_type": "execute_result"
    }
   ],
   "source": [
    "dtree.fit(x_train, y_train)"
   ]
  },
  {
   "cell_type": "code",
   "execution_count": 57,
   "id": "9c732db3",
   "metadata": {},
   "outputs": [
    {
     "data": {
      "image/png": "[encoded data removed]",
      "text/plain": [
       "<Figure size 432x288 with 2 Axes>"
      ]
     },
     "metadata": {
      "needs_background": "light"
     },
     "output_type": "display_data"
    }
   ],
   "source": [
    "#create a confusion matrix of the classifier's performance on the testing data\n",
    "confusion_matrix_sklearn(dtree, x_test, y_test)"
   ]
  },
  {
   "cell_type": "markdown",
   "id": "2d5d7842",
   "metadata": {},
   "source": [
    "**Confusion Matrix -**\n",
    "\n",
    "* Applicant was approved and the model predicted approval :  True Positive (observed=1,predicted=1)\n",
    "\n",
    "* Applicant was denied and the model predicted approval : False Positive (observed=0,predicted=1)\n",
    "\n",
    "* Applicant was denied and the model predicted denial : True Negative (observed=0,predicted=0)\n",
    "\n",
    "* Applicant was approved and the model predicted denial : False Negative (observed=1,predicted=0)"
   ]
  },
  {
   "cell_type": "code",
   "execution_count": 58,
   "id": "d484508c",
   "metadata": {},
   "outputs": [
    {
     "name": "stdout",
     "output_type": "stream",
     "text": [
      "Training performance \n",
      "    Accuracy  Recall  Precision   F1\n",
      "0      1.00    1.00       1.00 1.00\n"
     ]
    }
   ],
   "source": [
    "dtree_model_train_perf=model_performance_classification_sklearn(dtree, x_train, y_train)\n",
    "print(\"Training performance \\n\",dtree_model_train_perf)"
   ]
  },
  {
   "cell_type": "code",
   "execution_count": 59,
   "id": "3f92745e",
   "metadata": {},
   "outputs": [
    {
     "name": "stdout",
     "output_type": "stream",
     "text": [
      "Testing performance \n",
      "    Accuracy  Recall  Precision   F1\n",
      "0      0.66    0.74       0.75 0.75\n"
     ]
    }
   ],
   "source": [
    "dtree_model_test_perf=model_performance_classification_sklearn(dtree, x_test, y_test)\n",
    "print(\"Testing performance \\n\",dtree_model_test_perf)"
   ]
  },
  {
   "cell_type": "markdown",
   "id": "ca637519",
   "metadata": {},
   "source": [
    "* The Decision Tree is working well on the training data, but is not able to generalize well on the test data, indicating the model is overfit."
   ]
  },
  {
   "cell_type": "markdown",
   "id": "9552dca6",
   "metadata": {},
   "source": [
    "### Bagging Classifier"
   ]
  },
  {
   "cell_type": "code",
   "execution_count": 60,
   "id": "da41428f",
   "metadata": {},
   "outputs": [
    {
     "data": {
      "text/plain": [
       "BaggingClassifier(base_estimator=None, bootstrap=True, bootstrap_features=False,\n",
       "                  max_features=1.0, max_samples=1.0, n_estimators=10,\n",
       "                  n_jobs=None, oob_score=False, random_state=1, verbose=0,\n",
       "                  warm_start=False)"
      ]
     },
     "execution_count": 60,
     "metadata": {},
     "output_type": "execute_result"
    }
   ],
   "source": [
    "bagging = BaggingClassifier(random_state=1)\n",
    "bagging.fit(x_train,y_train)"
   ]
  },
  {
   "cell_type": "code",
   "execution_count": 61,
   "id": "3dad2861",
   "metadata": {},
   "outputs": [
    {
     "data": {
      "image/png": "[encoded data removed]",
      "text/plain": [
       "<Figure size 432x288 with 2 Axes>"
      ]
     },
     "metadata": {
      "needs_background": "light"
     },
     "output_type": "display_data"
    }
   ],
   "source": [
    "#create a confusion matrix of the classifier's performance on the testing data\n",
    "confusion_matrix_sklearn(bagging, x_test, y_test)"
   ]
  },
  {
   "cell_type": "code",
   "execution_count": 62,
   "id": "5b69f14e",
   "metadata": {},
   "outputs": [
    {
     "name": "stdout",
     "output_type": "stream",
     "text": [
      "Training performance \n",
      "    Accuracy  Recall  Precision   F1\n",
      "0      0.98    0.98       0.99 0.99\n"
     ]
    }
   ],
   "source": [
    "bagging_model_train_perf=model_performance_classification_sklearn(bagging, x_train, y_train)\n",
    "print(\"Training performance \\n\",bagging_model_train_perf)"
   ]
  },
  {
   "cell_type": "code",
   "execution_count": 63,
   "id": "e513e96b",
   "metadata": {},
   "outputs": [
    {
     "name": "stdout",
     "output_type": "stream",
     "text": [
      "Testing performance \n",
      "    Accuracy  Recall  Precision   F1\n",
      "0      0.69    0.77       0.77 0.77\n"
     ]
    }
   ],
   "source": [
    "bagging_model_test_perf=model_performance_classification_sklearn(bagging, x_test, y_test)\n",
    "print(\"Testing performance \\n\",bagging_model_test_perf)"
   ]
  },
  {
   "cell_type": "markdown",
   "id": "181ece74",
   "metadata": {},
   "source": [
    "* Similar to the Decision Tree model, this bagging classifer is overfit to the training dataset but has a higher F1 score."
   ]
  },
  {
   "cell_type": "markdown",
   "id": "60da599a",
   "metadata": {},
   "source": [
    "### Random Forest"
   ]
  },
  {
   "cell_type": "code",
   "execution_count": 64,
   "id": "c8446437",
   "metadata": {},
   "outputs": [
    {
     "data": {
      "text/plain": [
       "RandomForestClassifier(bootstrap=True, ccp_alpha=0.0, class_weight=None,\n",
       "                       criterion='gini', max_depth=None, max_features='auto',\n",
       "                       max_leaf_nodes=None, max_samples=None,\n",
       "                       min_impurity_decrease=0.0, min_impurity_split=None,\n",
       "                       min_samples_leaf=1, min_samples_split=2,\n",
       "                       min_weight_fraction_leaf=0.0, n_estimators=100,\n",
       "                       n_jobs=None, oob_score=False, random_state=1, verbose=0,\n",
       "                       warm_start=False)"
      ]
     },
     "execution_count": 64,
     "metadata": {},
     "output_type": "execute_result"
    }
   ],
   "source": [
    "rf = RandomForestClassifier(random_state=1)\n",
    "rf.fit(x_train,y_train)"
   ]
  },
  {
   "cell_type": "code",
   "execution_count": 65,
   "id": "efed0b81",
   "metadata": {},
   "outputs": [
    {
     "data": {
      "image/png": "[encoded data removed]",
      "text/plain": [
       "<Figure size 432x288 with 2 Axes>"
      ]
     },
     "metadata": {
      "needs_background": "light"
     },
     "output_type": "display_data"
    }
   ],
   "source": [
    "#create a confusion matrix of the classifier's performance on the testing data\n",
    "confusion_matrix_sklearn(rf,x_test,y_test)"
   ]
  },
  {
   "cell_type": "code",
   "execution_count": 66,
   "id": "cad96cc8",
   "metadata": {},
   "outputs": [
    {
     "name": "stdout",
     "output_type": "stream",
     "text": [
      "Training performance \n",
      "    Accuracy  Recall  Precision   F1\n",
      "0      1.00    1.00       1.00 1.00\n"
     ]
    }
   ],
   "source": [
    "rf_model_train_perf=model_performance_classification_sklearn(rf,x_train,y_train)\n",
    "print(\"Training performance \\n\",rf_model_train_perf)"
   ]
  },
  {
   "cell_type": "code",
   "execution_count": 67,
   "id": "ac200342",
   "metadata": {},
   "outputs": [
    {
     "name": "stdout",
     "output_type": "stream",
     "text": [
      "Testing performance \n",
      "    Accuracy  Recall  Precision   F1\n",
      "0      0.70    0.79       0.77 0.78\n"
     ]
    }
   ],
   "source": [
    "rf_model_test_perf=model_performance_classification_sklearn(rf,x_test,y_test)\n",
    "print(\"Testing performance \\n\",rf_model_test_perf)"
   ]
  },
  {
   "cell_type": "markdown",
   "id": "249802a7",
   "metadata": {},
   "source": [
    "* Similar to the models above, this Random Forest is also overfit to the training dataset but has the highest F1 score so far."
   ]
  },
  {
   "cell_type": "markdown",
   "id": "2d38d0ec",
   "metadata": {
    "id": "GZw_di98pkfV"
   },
   "source": [
    "### AdaBoost Classifier"
   ]
  },
  {
   "cell_type": "code",
   "execution_count": 68,
   "id": "4eae1e89",
   "metadata": {
    "id": "YElA_stqpkfV",
    "outputId": "f7c618fa-7d4a-4f9a-fab7-e8344079aaf2"
   },
   "outputs": [
    {
     "data": {
      "text/plain": [
       "AdaBoostClassifier(algorithm='SAMME.R', base_estimator=None, learning_rate=1.0,\n",
       "                   n_estimators=50, random_state=1)"
      ]
     },
     "execution_count": 68,
     "metadata": {},
     "output_type": "execute_result"
    }
   ],
   "source": [
    "ab_classifier=AdaBoostClassifier(random_state=1)\n",
    "ab_classifier.fit(x_train,y_train)"
   ]
  },
  {
   "cell_type": "code",
   "execution_count": 69,
   "id": "07dd6a2b",
   "metadata": {},
   "outputs": [
    {
     "data": {
      "image/png": "[encoded data removed]",
      "text/plain": [
       "<Figure size 432x288 with 2 Axes>"
      ]
     },
     "metadata": {
      "needs_background": "light"
     },
     "output_type": "display_data"
    }
   ],
   "source": [
    "#create a confusion matrix of the classifier's performance on the testing data\n",
    "confusion_matrix_sklearn(ab_classifier, x_test,y_test)"
   ]
  },
  {
   "cell_type": "code",
   "execution_count": 70,
   "id": "9cf92252",
   "metadata": {},
   "outputs": [
    {
     "name": "stdout",
     "output_type": "stream",
     "text": [
      "Training performance \n",
      "    Accuracy  Recall  Precision   F1\n",
      "0      0.73    0.88       0.76 0.82\n"
     ]
    }
   ],
   "source": [
    "ab_classifier_model_train_perf = model_performance_classification_sklearn(ab_classifier,x_train,y_train)\n",
    "print(\"Training performance \\n\",ab_classifier_model_train_perf)"
   ]
  },
  {
   "cell_type": "code",
   "execution_count": 71,
   "id": "44717ae7",
   "metadata": {},
   "outputs": [
    {
     "name": "stdout",
     "output_type": "stream",
     "text": [
      "Testing performance \n",
      "    Accuracy  Recall  Precision   F1\n",
      "0      0.74    0.89       0.76 0.82\n"
     ]
    }
   ],
   "source": [
    "ab_classifier_model_test_perf = model_performance_classification_sklearn(ab_classifier,x_test,y_test)\n",
    "print(\"Testing performance \\n\",ab_classifier_model_test_perf)"
   ]
  },
  {
   "cell_type": "markdown",
   "id": "bcbb9efb",
   "metadata": {},
   "source": [
    "* This AdaBoost classifer performs equally well on the training and testing datasets, indicating that the model is not overfit.\n",
    "* Additionally, the model performs the best of any model yet (i.e., highest F1 score) on the testing data."
   ]
  },
  {
   "cell_type": "markdown",
   "id": "b4faf623",
   "metadata": {},
   "source": [
    "### Gradient Boosting Classifier"
   ]
  },
  {
   "cell_type": "code",
   "execution_count": 72,
   "id": "a1e25e81",
   "metadata": {},
   "outputs": [
    {
     "data": {
      "text/plain": [
       "GradientBoostingClassifier(ccp_alpha=0.0, criterion='friedman_mse', init=None,\n",
       "                           learning_rate=0.1, loss='deviance', max_depth=3,\n",
       "                           max_features=None, max_leaf_nodes=None,\n",
       "                           min_impurity_decrease=0.0, min_impurity_split=None,\n",
       "                           min_samples_leaf=1, min_samples_split=2,\n",
       "                           min_weight_fraction_leaf=0.0, n_estimators=100,\n",
       "                           n_iter_no_change=None, presort='deprecated',\n",
       "                           random_state=1, subsample=1.0, tol=0.0001,\n",
       "                           validation_fraction=0.1, verbose=0,\n",
       "                           warm_start=False)"
      ]
     },
     "execution_count": 72,
     "metadata": {},
     "output_type": "execute_result"
    }
   ],
   "source": [
    "gbc = GradientBoostingClassifier(random_state=1)\n",
    "gbc.fit(x_train,y_train)"
   ]
  },
  {
   "cell_type": "code",
   "execution_count": 73,
   "id": "f1bd3a15",
   "metadata": {},
   "outputs": [
    {
     "data": {
      "image/png": "[encoded data removed]",
      "text/plain": [
       "<Figure size 432x288 with 2 Axes>"
      ]
     },
     "metadata": {
      "needs_background": "light"
     },
     "output_type": "display_data"
    }
   ],
   "source": [
    "#create a confusion matrix of the classifier's performance on the testing data\n",
    "confusion_matrix_sklearn(gbc, x_test,y_test)"
   ]
  },
  {
   "cell_type": "code",
   "execution_count": 74,
   "id": "92622f9c",
   "metadata": {},
   "outputs": [
    {
     "name": "stdout",
     "output_type": "stream",
     "text": [
      "Training performance \n",
      "    Accuracy  Recall  Precision   F1\n",
      "0      0.75    0.87       0.78 0.83\n"
     ]
    }
   ],
   "source": [
    "gbc_classifier_model_train_perf = model_performance_classification_sklearn(gbc,x_train,y_train)\n",
    "print(\"Training performance \\n\",gbc_classifier_model_train_perf)"
   ]
  },
  {
   "cell_type": "code",
   "execution_count": 75,
   "id": "5a49482a",
   "metadata": {
    "scrolled": false
   },
   "outputs": [
    {
     "name": "stdout",
     "output_type": "stream",
     "text": [
      "Training performance \n",
      "    Accuracy  Recall  Precision   F1\n",
      "0      0.75    0.88       0.78 0.83\n"
     ]
    }
   ],
   "source": [
    "gbc_classifier_model_test_perf = model_performance_classification_sklearn(gbc,x_test,y_test)\n",
    "print(\"Training performance \\n\",gbc_classifier_model_test_perf)"
   ]
  },
  {
   "cell_type": "markdown",
   "id": "dd2c8af4",
   "metadata": {},
   "source": [
    "* This Gradient Boosting classifer performs equally well on the training and testing datasets, indicating that the model is not overfit.\n",
    "* Additionally, this model performs even better than the AdaBoost model above."
   ]
  },
  {
   "cell_type": "markdown",
   "id": "a449ceea",
   "metadata": {},
   "source": [
    "### XGBoost Classifier"
   ]
  },
  {
   "cell_type": "code",
   "execution_count": 76,
   "id": "62e4a17a",
   "metadata": {},
   "outputs": [
    {
     "data": {
      "text/plain": [
       "XGBClassifier(base_score=0.5, booster='gbtree', colsample_bylevel=1,\n",
       "              colsample_bynode=1, colsample_bytree=1, enable_categorical=False,\n",
       "              eval_metric='logloss', gamma=0, gpu_id=-1, importance_type=None,\n",
       "              interaction_constraints='', learning_rate=0.300000012,\n",
       "              max_delta_step=0, max_depth=6, min_child_weight=1, missing=nan,\n",
       "              monotone_constraints='()', n_estimators=100, n_jobs=8,\n",
       "              num_parallel_tree=1, objective='binary:logistic',\n",
       "              predictor='auto', random_state=1, reg_alpha=0, reg_lambda=1,\n",
       "              scale_pos_weight=1, subsample=1, tree_method='exact',\n",
       "              use_label_encoder=True, validate_parameters=1, ...)"
      ]
     },
     "execution_count": 76,
     "metadata": {},
     "output_type": "execute_result"
    }
   ],
   "source": [
    "xgb = XGBClassifier(random_state=1,eval_metric='logloss')\n",
    "xgb.fit(x_train,y_train)"
   ]
  },
  {
   "cell_type": "code",
   "execution_count": 77,
   "id": "1af6ce54",
   "metadata": {},
   "outputs": [
    {
     "data": {
      "image/png": "[encoded data removed]",
      "text/plain": [
       "<Figure size 432x288 with 2 Axes>"
      ]
     },
     "metadata": {
      "needs_background": "light"
     },
     "output_type": "display_data"
    }
   ],
   "source": [
    "#create a confusion matrix of the classifier's performance on the testing data\n",
    "confusion_matrix_sklearn(xgb, x_test,y_test)"
   ]
  },
  {
   "cell_type": "code",
   "execution_count": 78,
   "id": "1fefd095",
   "metadata": {},
   "outputs": [
    {
     "name": "stdout",
     "output_type": "stream",
     "text": [
      "Training performance \n",
      "    Accuracy  Recall  Precision   F1\n",
      "0      0.81    0.92       0.82 0.87\n"
     ]
    }
   ],
   "source": [
    "xgb_classifier_model_train_perf = model_performance_classification_sklearn(xgb,x_train,y_train)\n",
    "print(\"Training performance \\n\",xgb_classifier_model_train_perf)"
   ]
  },
  {
   "cell_type": "code",
   "execution_count": 79,
   "id": "e2ccae83",
   "metadata": {
    "scrolled": false
   },
   "outputs": [
    {
     "name": "stdout",
     "output_type": "stream",
     "text": [
      "Training performance \n",
      "    Accuracy  Recall  Precision   F1\n",
      "0      0.75    0.87       0.78 0.82\n"
     ]
    }
   ],
   "source": [
    "xgb_classifier_model_test_perf = model_performance_classification_sklearn(xgb,x_test,y_test)\n",
    "print(\"Training performance \\n\",xgb_classifier_model_test_perf)"
   ]
  },
  {
   "cell_type": "markdown",
   "id": "39515c4c",
   "metadata": {},
   "source": [
    "* This XGBoost classifer performs equally well on the training and testing datasets, indicating that the model is not overfit.\n",
    "* Additionally, this model performs as well as the AdaBoost model and slightly worse the Gradient Boost model on the test data."
   ]
  },
  {
   "cell_type": "markdown",
   "id": "cff4f4f6",
   "metadata": {},
   "source": [
    "### Base models comparison"
   ]
  },
  {
   "cell_type": "code",
   "execution_count": 80,
   "id": "aa3ebe8a",
   "metadata": {
    "id": "everyday-kinase",
    "scrolled": true
   },
   "outputs": [
    {
     "name": "stdout",
     "output_type": "stream",
     "text": [
      "Training performance comparison of base models:\n"
     ]
    },
    {
     "data": {
      "text/html": [
       "<div>\n",
       "<style scoped>\n",
       "    .dataframe tbody tr th:only-of-type {\n",
       "        vertical-align: middle;\n",
       "    }\n",
       "\n",
       "    .dataframe tbody tr th {\n",
       "        vertical-align: top;\n",
       "    }\n",
       "\n",
       "    .dataframe thead th {\n",
       "        text-align: right;\n",
       "    }\n",
       "</style>\n",
       "<table border=\"1\" class=\"dataframe\">\n",
       "  <thead>\n",
       "    <tr style=\"text-align: right;\">\n",
       "      <th></th>\n",
       "      <th>Decision Tree</th>\n",
       "      <th>Bagging Classifier</th>\n",
       "      <th>Random Forest</th>\n",
       "      <th>AdaBoost Classifier</th>\n",
       "      <th>Gradient Boosting Classifier</th>\n",
       "      <th>XGBoost Classifier</th>\n",
       "    </tr>\n",
       "  </thead>\n",
       "  <tbody>\n",
       "    <tr>\n",
       "      <th>Accuracy</th>\n",
       "      <td>1.00</td>\n",
       "      <td>0.98</td>\n",
       "      <td>1.00</td>\n",
       "      <td>0.73</td>\n",
       "      <td>0.75</td>\n",
       "      <td>0.81</td>\n",
       "    </tr>\n",
       "    <tr>\n",
       "      <th>Recall</th>\n",
       "      <td>1.00</td>\n",
       "      <td>0.98</td>\n",
       "      <td>1.00</td>\n",
       "      <td>0.88</td>\n",
       "      <td>0.87</td>\n",
       "      <td>0.92</td>\n",
       "    </tr>\n",
       "    <tr>\n",
       "      <th>Precision</th>\n",
       "      <td>1.00</td>\n",
       "      <td>0.99</td>\n",
       "      <td>1.00</td>\n",
       "      <td>0.76</td>\n",
       "      <td>0.78</td>\n",
       "      <td>0.82</td>\n",
       "    </tr>\n",
       "    <tr>\n",
       "      <th>F1</th>\n",
       "      <td>1.00</td>\n",
       "      <td>0.99</td>\n",
       "      <td>1.00</td>\n",
       "      <td>0.82</td>\n",
       "      <td>0.83</td>\n",
       "      <td>0.87</td>\n",
       "    </tr>\n",
       "  </tbody>\n",
       "</table>\n",
       "</div>"
      ],
      "text/plain": [
       "           Decision Tree  Bagging Classifier  Random Forest  \\\n",
       "Accuracy            1.00                0.98           1.00   \n",
       "Recall              1.00                0.98           1.00   \n",
       "Precision           1.00                0.99           1.00   \n",
       "F1                  1.00                0.99           1.00   \n",
       "\n",
       "           AdaBoost Classifier  Gradient Boosting Classifier  \\\n",
       "Accuracy                  0.73                          0.75   \n",
       "Recall                    0.88                          0.87   \n",
       "Precision                 0.76                          0.78   \n",
       "F1                        0.82                          0.83   \n",
       "\n",
       "           XGBoost Classifier  \n",
       "Accuracy                 0.81  \n",
       "Recall                   0.92  \n",
       "Precision                0.82  \n",
       "F1                       0.87  "
      ]
     },
     "execution_count": 80,
     "metadata": {},
     "output_type": "execute_result"
    }
   ],
   "source": [
    "# create a dataframe comparing the performance of the base models on the training data\n",
    "\n",
    "models_train_comp_df = pd.concat(\n",
    "    [dtree_model_train_perf.T,\n",
    "     bagging_model_train_perf.T,\n",
    "     rf_model_train_perf.T,\n",
    "     ab_classifier_model_train_perf.T, \n",
    "     gbc_classifier_model_train_perf.T, \n",
    "     xgb_classifier_model_train_perf.T],\n",
    "    axis=1,\n",
    ")\n",
    "models_train_comp_df.columns = [\n",
    "    \"Decision Tree\",\n",
    "    \"Bagging Classifier\",\n",
    "    \"Random Forest\",\n",
    "    \"AdaBoost Classifier\",\n",
    "    \"Gradient Boosting Classifier\",\n",
    "    \"XGBoost Classifier\"]\n",
    "print(\"Training performance comparison of base models:\")\n",
    "models_train_comp_df"
   ]
  },
  {
   "cell_type": "code",
   "execution_count": 81,
   "id": "2670d244",
   "metadata": {},
   "outputs": [
    {
     "name": "stdout",
     "output_type": "stream",
     "text": [
      "Testing performance comparison of base models:\n"
     ]
    },
    {
     "data": {
      "text/html": [
       "<div>\n",
       "<style scoped>\n",
       "    .dataframe tbody tr th:only-of-type {\n",
       "        vertical-align: middle;\n",
       "    }\n",
       "\n",
       "    .dataframe tbody tr th {\n",
       "        vertical-align: top;\n",
       "    }\n",
       "\n",
       "    .dataframe thead th {\n",
       "        text-align: right;\n",
       "    }\n",
       "</style>\n",
       "<table border=\"1\" class=\"dataframe\">\n",
       "  <thead>\n",
       "    <tr style=\"text-align: right;\">\n",
       "      <th></th>\n",
       "      <th>Decision Tree</th>\n",
       "      <th>Bagging Classifier</th>\n",
       "      <th>Random Forest</th>\n",
       "      <th>AdaBoost Classifier</th>\n",
       "      <th>Gradient Boosting Classifier</th>\n",
       "      <th>XGBoost Classifier</th>\n",
       "    </tr>\n",
       "  </thead>\n",
       "  <tbody>\n",
       "    <tr>\n",
       "      <th>Accuracy</th>\n",
       "      <td>0.66</td>\n",
       "      <td>0.69</td>\n",
       "      <td>0.70</td>\n",
       "      <td>0.74</td>\n",
       "      <td>0.75</td>\n",
       "      <td>0.75</td>\n",
       "    </tr>\n",
       "    <tr>\n",
       "      <th>Recall</th>\n",
       "      <td>0.74</td>\n",
       "      <td>0.77</td>\n",
       "      <td>0.79</td>\n",
       "      <td>0.89</td>\n",
       "      <td>0.88</td>\n",
       "      <td>0.87</td>\n",
       "    </tr>\n",
       "    <tr>\n",
       "      <th>Precision</th>\n",
       "      <td>0.75</td>\n",
       "      <td>0.77</td>\n",
       "      <td>0.77</td>\n",
       "      <td>0.76</td>\n",
       "      <td>0.78</td>\n",
       "      <td>0.78</td>\n",
       "    </tr>\n",
       "    <tr>\n",
       "      <th>F1</th>\n",
       "      <td>0.75</td>\n",
       "      <td>0.77</td>\n",
       "      <td>0.78</td>\n",
       "      <td>0.82</td>\n",
       "      <td>0.83</td>\n",
       "      <td>0.82</td>\n",
       "    </tr>\n",
       "  </tbody>\n",
       "</table>\n",
       "</div>"
      ],
      "text/plain": [
       "           Decision Tree  Bagging Classifier  Random Forest  \\\n",
       "Accuracy            0.66                0.69           0.70   \n",
       "Recall              0.74                0.77           0.79   \n",
       "Precision           0.75                0.77           0.77   \n",
       "F1                  0.75                0.77           0.78   \n",
       "\n",
       "           AdaBoost Classifier  Gradient Boosting Classifier  \\\n",
       "Accuracy                  0.74                          0.75   \n",
       "Recall                    0.89                          0.88   \n",
       "Precision                 0.76                          0.78   \n",
       "F1                        0.82                          0.83   \n",
       "\n",
       "           XGBoost Classifier  \n",
       "Accuracy                 0.75  \n",
       "Recall                   0.87  \n",
       "Precision                0.78  \n",
       "F1                       0.82  "
      ]
     },
     "execution_count": 81,
     "metadata": {},
     "output_type": "execute_result"
    }
   ],
   "source": [
    "# create a dataframe comparing the performance of the base models on the testing data\n",
    "\n",
    "models_test_comp_df = pd.concat(\n",
    "    [dtree_model_test_perf.T,\n",
    "     bagging_model_test_perf.T,\n",
    "     rf_model_test_perf.T,\n",
    "     ab_classifier_model_test_perf.T, \n",
    "     gbc_classifier_model_test_perf.T, \n",
    "     xgb_classifier_model_test_perf.T],\n",
    "    axis=1,\n",
    ")\n",
    "models_test_comp_df.columns = [\n",
    "    \"Decision Tree\",\n",
    "    \"Bagging Classifier\",\n",
    "    \"Random Forest\",\n",
    "    \"AdaBoost Classifier\",\n",
    "    \"Gradient Boosting Classifier\",\n",
    "    \"XGBoost Classifier\"]\n",
    "print(\"Testing performance comparison of base models:\")\n",
    "models_test_comp_df"
   ]
  },
  {
   "cell_type": "markdown",
   "id": "9bd0ea13",
   "metadata": {},
   "source": [
    "* Overall, the bagging models perform best on the training data, due to all three of the models overfitting this data set. \n",
    "* As shown above, all three of the boosting models do not overfit the data and achieve higher F1 scores on the training data set, with the Gradient Boosting classifier performing the best."
   ]
  },
  {
   "cell_type": "markdown",
   "id": "3c8a521c",
   "metadata": {
    "id": "prime-athletics"
   },
   "source": [
    "##  Hyperparameter tuning"
   ]
  },
  {
   "cell_type": "markdown",
   "id": "7b1afaaa",
   "metadata": {},
   "source": [
    "**Tuning Decision Tree**"
   ]
  },
  {
   "cell_type": "code",
   "execution_count": 82,
   "id": "51c43842",
   "metadata": {
    "scrolled": true
   },
   "outputs": [
    {
     "data": {
      "text/plain": [
       "DecisionTreeClassifier(ccp_alpha=0.0, class_weight=None, criterion='gini',\n",
       "                       max_depth=5, max_features=None, max_leaf_nodes=4,\n",
       "                       min_impurity_decrease=0.0001, min_impurity_split=None,\n",
       "                       min_samples_leaf=3, min_samples_split=2,\n",
       "                       min_weight_fraction_leaf=0.0, presort='deprecated',\n",
       "                       random_state=1, splitter='best')"
      ]
     },
     "execution_count": 82,
     "metadata": {},
     "output_type": "execute_result"
    }
   ],
   "source": [
    "# Choose the type of classifier. \n",
    "dtree_estimator = DecisionTreeClassifier(random_state=1)\n",
    "\n",
    "# Grid of parameters to choose from\n",
    "parameters = {'max_depth': np.arange(5,30,5),\n",
    "              'min_samples_leaf': [3, 5, 7],\n",
    "              'max_leaf_nodes' : [2, 4, 6],\n",
    "              'min_impurity_decrease': [0.0001,0.001,0.01,0.1]\n",
    "             }\n",
    "\n",
    "# Type of scoring used to compare parameter combinations\n",
    "scorer = metrics.make_scorer(metrics.f1_score)\n",
    "\n",
    "# Run the grid search\n",
    "grid_obj = GridSearchCV(dtree_estimator, parameters, scoring=scorer, cv=5)\n",
    "grid_obj = grid_obj.fit(x_train, y_train)\n",
    "\n",
    "# Set the clf to the best combination of parameters\n",
    "dtree_estimator = grid_obj.best_estimator_\n",
    "\n",
    "# Fit the best algorithm to the data. \n",
    "dtree_estimator.fit(x_train, y_train)"
   ]
  },
  {
   "cell_type": "code",
   "execution_count": 83,
   "id": "985b574f",
   "metadata": {},
   "outputs": [
    {
     "data": {
      "image/png": "[encoded data removed]",
      "text/plain": [
       "<Figure size 432x288 with 2 Axes>"
      ]
     },
     "metadata": {
      "needs_background": "light"
     },
     "output_type": "display_data"
    }
   ],
   "source": [
    "#create a confusion matrix of the classifier's performance on the testing data\n",
    "confusion_matrix_sklearn(dtree_estimator, x_test,y_test)"
   ]
  },
  {
   "cell_type": "code",
   "execution_count": 84,
   "id": "7cbc0249",
   "metadata": {},
   "outputs": [
    {
     "name": "stdout",
     "output_type": "stream",
     "text": [
      "Training performance \n",
      "    Accuracy  Recall  Precision   F1\n",
      "0      0.73    0.91       0.74 0.82\n"
     ]
    }
   ],
   "source": [
    "dtree_estimator_model_train_perf=model_performance_classification_sklearn(dtree_estimator, x_train,y_train)\n",
    "print(\"Training performance \\n\",dtree_estimator_model_train_perf)"
   ]
  },
  {
   "cell_type": "code",
   "execution_count": 85,
   "id": "83fc1249",
   "metadata": {},
   "outputs": [
    {
     "name": "stdout",
     "output_type": "stream",
     "text": [
      "Testing performance \n",
      "    Accuracy  Recall  Precision   F1\n",
      "0      0.73    0.91       0.74 0.82\n"
     ]
    }
   ],
   "source": [
    "dtree_estimator_model_test_perf=model_performance_classification_sklearn(dtree_estimator, x_test, y_test)\n",
    "print(\"Testing performance \\n\",dtree_estimator_model_test_perf)"
   ]
  },
  {
   "cell_type": "markdown",
   "id": "dcbe7371",
   "metadata": {},
   "source": [
    "* The Decision Tree model after tuning performs equally well on the training and testing datasets, indicating that the model is not overfit.\n",
    "* Additionally, this model performs as well as two out of the three boosting models above on the test data.\n",
    "* Both of these indicate this tuned model is a significant improvements over the base model."
   ]
  },
  {
   "cell_type": "markdown",
   "id": "e12e355d",
   "metadata": {},
   "source": [
    "**Tuning Bagging Classifier**"
   ]
  },
  {
   "cell_type": "markdown",
   "id": "9ddabeb9",
   "metadata": {},
   "source": [
    "Hyperparameters available for bagging classifier include:\n",
    "   - base_estimator: The base estimator to fit on random subsets of the dataset. If None(default), then the base estimator is a decision tree.\n",
    "   - n_estimators: The number of trees in the forest, default = 100.\n",
    "   - max_features: The number of features to consider when looking for the best split. \n",
    "   - bootstrap: Whether bootstrap samples are used when building trees. If False, the entire dataset is used to build each tree, default=True.\n",
    "   - bootstrap_features: If it is true, then features are drawn with replacement. Default value is False.\n",
    "   - max_samples: If bootstrap is True, then the number of samples to draw from X to train each base estimator. If None (default), then draw N samples, where N is the number of observations in the train data.\n",
    "   - oob_score: Whether to use out-of-bag samples to estimate the generalization accuracy, default=False."
   ]
  },
  {
   "cell_type": "code",
   "execution_count": 86,
   "id": "f80d317d",
   "metadata": {},
   "outputs": [
    {
     "data": {
      "text/plain": [
       "BaggingClassifier(base_estimator=None, bootstrap=True, bootstrap_features=False,\n",
       "                  max_features=0.8, max_samples=0.8, n_estimators=70,\n",
       "                  n_jobs=None, oob_score=False, random_state=1, verbose=0,\n",
       "                  warm_start=False)"
      ]
     },
     "execution_count": 86,
     "metadata": {},
     "output_type": "execute_result"
    }
   ],
   "source": [
    "# random search for bagging classifier\n",
    "parameters = {'max_samples': [0.7,0.8,0.9,1],\n",
    "              'max_features': [0.7,0.8,0.9,1],\n",
    "              'n_estimators' : np.arange(50, 100, 10)\n",
    "             }\n",
    "\n",
    "#run the randomized search\n",
    "rand_bag = RandomizedSearchCV(BaggingClassifier(random_state=1,bootstrap=True), \n",
    "                              parameters, scoring = 'f1', cv = 5, random_state=1)\n",
    "rand_bag = rand_bag.fit(x_train, y_train)\n",
    "\n",
    "# Set the clf to the best combination of parameters\n",
    "bag_tuned = rand_bag.best_estimator_\n",
    "\n",
    "# Fit the best algorithm to the data\n",
    "bag_tuned.fit(x_train, y_train)"
   ]
  },
  {
   "cell_type": "code",
   "execution_count": 87,
   "id": "4f746c5e",
   "metadata": {},
   "outputs": [
    {
     "data": {
      "image/png": "[encoded data removed]",
      "text/plain": [
       "<Figure size 432x288 with 2 Axes>"
      ]
     },
     "metadata": {
      "needs_background": "light"
     },
     "output_type": "display_data"
    }
   ],
   "source": [
    "#create a confusion matrix of the classifier's performance on the testing data\n",
    "confusion_matrix_sklearn(bag_tuned, x_test,y_test)"
   ]
  },
  {
   "cell_type": "code",
   "execution_count": 88,
   "id": "d857e3ea",
   "metadata": {},
   "outputs": [
    {
     "name": "stdout",
     "output_type": "stream",
     "text": [
      "Training performance \n",
      "    Accuracy  Recall  Precision   F1\n",
      "0      0.99    1.00       0.99 0.99\n"
     ]
    }
   ],
   "source": [
    "bagging_estimator_model_train_perf=model_performance_classification_sklearn(bag_tuned, x_train,y_train)\n",
    "print(\"Training performance \\n\",bagging_estimator_model_train_perf)"
   ]
  },
  {
   "cell_type": "code",
   "execution_count": 89,
   "id": "92f80d68",
   "metadata": {},
   "outputs": [
    {
     "name": "stdout",
     "output_type": "stream",
     "text": [
      "Testing performance \n",
      "    Accuracy  Recall  Precision   F1\n",
      "0      0.73    0.87       0.76 0.81\n"
     ]
    }
   ],
   "source": [
    "bagging_estimator_model_test_perf=model_performance_classification_sklearn(bag_tuned, x_test, y_test)\n",
    "print(\"Testing performance \\n\",bagging_estimator_model_test_perf)"
   ]
  },
  {
   "cell_type": "markdown",
   "id": "977b20e7",
   "metadata": {},
   "source": [
    "* The Bagging Classifier after tuning performs far less well on the test data than on the training data, indicating that the model is still overfit. \n",
    "* However, this model does perform better than the base model."
   ]
  },
  {
   "cell_type": "markdown",
   "id": "58774b9a",
   "metadata": {},
   "source": [
    "**Tuning Random Forest**"
   ]
  },
  {
   "cell_type": "markdown",
   "id": "07b3931c",
   "metadata": {},
   "source": [
    "Hyperparameters for Random Forest include:\n",
    "\n",
    "- n_estimators: The number of trees in the forest, default = 100.\n",
    "- max_features: The number of features to consider when looking for the best split. \n",
    "- class_weight: Weights associated with classes in the form {class_label: weight}.If not given, all classes are supposed to have weight one.  \n",
    "- For example: If the frequency of class 0 is 80% and the frequency of class 1 is 20% in the data, then class 0 will become the dominant class and the model will become biased toward the dominant classes. In this case, we can pass a dictionary {0:0.2,1:0.8} to the model to specify the weight of each class and the random forest will give more weightage to class 1. \n",
    "- bootstrap: Whether bootstrap samples are used when building trees. If False, the entire dataset is used to build each tree, default=True.\n",
    "- max_samples: If bootstrap is True, then the number of samples to draw from X to train each base estimator. If None (default), then draw N samples, where N is the number of observations in the train data.\n",
    "- oob_score: Whether to use out-of-bag samples to estimate the generalization accuracy, default=False.\n",
    "\n",
    "- Note: A lot of hyperparameters of Decision Trees are also available to tune  Random Forest like max_depth, min_sample_split etc.\n"
   ]
  },
  {
   "cell_type": "code",
   "execution_count": 90,
   "id": "b806cabf",
   "metadata": {},
   "outputs": [
    {
     "data": {
      "text/plain": [
       "DecisionTreeClassifier(ccp_alpha=0.0, class_weight=None, criterion='gini',\n",
       "                       max_depth=5, max_features=None, max_leaf_nodes=4,\n",
       "                       min_impurity_decrease=0.0001, min_impurity_split=None,\n",
       "                       min_samples_leaf=3, min_samples_split=2,\n",
       "                       min_weight_fraction_leaf=0.0, presort='deprecated',\n",
       "                       random_state=1, splitter='best')"
      ]
     },
     "execution_count": 90,
     "metadata": {},
     "output_type": "execute_result"
    }
   ],
   "source": [
    "# Choose the type of classifier. \n",
    "rf_estimator = RandomForestClassifier(random_state=1)\n",
    "\n",
    "# Grid of parameters to choose from\n",
    "parameters = {\"n_estimators\": np.arange(10, 40, 10),\n",
    "              \"min_samples_leaf\": np.arange(5, 10),\n",
    "              \"min_samples_split\": [3, 5, 7],\n",
    "              \"max_features\": [\"sqrt\", \"log2\"],\n",
    "              \"max_samples\": np.arange(0.3, 0.7, 0.1),\n",
    "}\n",
    "\n",
    "# Run the randomized search\n",
    "rand_rf = RandomizedSearchCV(rf_estimator, parameters, scoring='f1', cv=5, n_jobs=-1, random_state=1)\n",
    "rand_rf = grid_obj.fit(x_train, y_train)\n",
    "\n",
    "# Set the clf to the best combination of parameters\n",
    "rf_estimator = rand_rf.best_estimator_\n",
    "\n",
    "# Fit the best algorithm to the data. \n",
    "rf_estimator.fit(x_train, y_train)"
   ]
  },
  {
   "cell_type": "code",
   "execution_count": 91,
   "id": "629c84a0",
   "metadata": {},
   "outputs": [
    {
     "data": {
      "image/png": "[encoded data removed]",
      "text/plain": [
       "<Figure size 432x288 with 2 Axes>"
      ]
     },
     "metadata": {
      "needs_background": "light"
     },
     "output_type": "display_data"
    }
   ],
   "source": [
    "#create a confusion matrix of the classifier's performance on the testing data\n",
    "confusion_matrix_sklearn(rf_estimator, x_test,y_test)"
   ]
  },
  {
   "cell_type": "code",
   "execution_count": 92,
   "id": "e3dc63e0",
   "metadata": {},
   "outputs": [
    {
     "name": "stdout",
     "output_type": "stream",
     "text": [
      "Training performance \n",
      "    Accuracy  Recall  Precision   F1\n",
      "0      0.73    0.91       0.74 0.82\n"
     ]
    }
   ],
   "source": [
    "rf_estimator_model_train_perf=model_performance_classification_sklearn(rf_estimator, x_train,y_train)\n",
    "print(\"Training performance \\n\",rf_estimator_model_train_perf)"
   ]
  },
  {
   "cell_type": "code",
   "execution_count": 93,
   "id": "e29da4a7",
   "metadata": {},
   "outputs": [
    {
     "name": "stdout",
     "output_type": "stream",
     "text": [
      "Testing performance \n",
      "    Accuracy  Recall  Precision   F1\n",
      "0      0.73    0.91       0.74 0.82\n"
     ]
    }
   ],
   "source": [
    "rf_estimator_model_test_perf=model_performance_classification_sklearn(rf_estimator, x_test, y_test)\n",
    "print(\"Testing performance \\n\",rf_estimator_model_test_perf)"
   ]
  },
  {
   "cell_type": "markdown",
   "id": "ad19b6fc",
   "metadata": {},
   "source": [
    "* The Random Forest after tuning performs equally well on the training and testing datasets, indicating that the model is not overfit.\n",
    "* Additionally, this model performs as well as two out of the three boosting models and the tuned Decision Tree on the test data.\n",
    "* Both of these indicate this tuned model is a significant improvements over the base model."
   ]
  },
  {
   "cell_type": "markdown",
   "id": "19823fd9",
   "metadata": {},
   "source": [
    "#### Tuning AdaBoost Classifier"
   ]
  },
  {
   "cell_type": "markdown",
   "id": "015c05a4",
   "metadata": {},
   "source": [
    "Hyperparameters include:\n",
    "   - base_estimator: The base estimator from which the boosted ensemble is built. By default the base estimator is a decision tree with max_depth=1\n",
    "   - n_estimators: The maximum number of estimators at which boosting is terminated. Default value is 50.\n",
    "   - learning_rate: Learning rate shrinks the contribution of each classifier by learning_rate. There is a trade-off between learning_rate and n_estimators."
   ]
  },
  {
   "cell_type": "code",
   "execution_count": 94,
   "id": "273d803a",
   "metadata": {},
   "outputs": [
    {
     "data": {
      "text/plain": [
       "AdaBoostClassifier(algorithm='SAMME.R',\n",
       "                   base_estimator=DecisionTreeClassifier(ccp_alpha=0.0,\n",
       "                                                         class_weight='balanced',\n",
       "                                                         criterion='gini',\n",
       "                                                         max_depth=1,\n",
       "                                                         max_features=None,\n",
       "                                                         max_leaf_nodes=None,\n",
       "                                                         min_impurity_decrease=0.0,\n",
       "                                                         min_impurity_split=None,\n",
       "                                                         min_samples_leaf=1,\n",
       "                                                         min_samples_split=2,\n",
       "                                                         min_weight_fraction_leaf=0.0,\n",
       "                                                         presort='deprecated',\n",
       "                                                         random_state=1,\n",
       "                                                         splitter='best'),\n",
       "                   learning_rate=0.5, n_estimators=20, random_state=1)"
      ]
     },
     "execution_count": 94,
     "metadata": {},
     "output_type": "execute_result"
    }
   ],
   "source": [
    "# Choose the type of classifier. \n",
    "abc_tuned = AdaBoostClassifier(random_state=1)\n",
    "\n",
    "# Grid of parameters to choose from\n",
    "## add from article\n",
    "parameters = {\n",
    "    #Let's try different max_depth for base_estimator\n",
    "    \"base_estimator\":[DecisionTreeClassifier(max_depth=1, random_state=1, class_weight='balanced'),\n",
    "                      DecisionTreeClassifier(max_depth=2, random_state=1, class_weight='balanced'),\n",
    "                      DecisionTreeClassifier(max_depth=3, random_state=1, class_weight='balanced')],\n",
    "    \"n_estimators\": np.arange(10,110,10),\n",
    "    \"learning_rate\":np.arange(0.1,2,0.1)\n",
    "}\n",
    "\n",
    "# Type of scoring used to compare parameter combinations\n",
    "acc_scorer = metrics.make_scorer(metrics.f1_score)\n",
    "\n",
    "# Run the randomized search\n",
    "rand_abc = RandomizedSearchCV(abc_tuned, parameters, scoring=acc_scorer,cv=5, n_jobs=-1, random_state=1)\n",
    "rand_abc = rand_abc.fit(x_train, y_train)\n",
    "\n",
    "# Set the clf to the best combination of parameters\n",
    "abc_tuned = rand_abc.best_estimator_\n",
    "\n",
    "# Fit the best algorithm to the data.\n",
    "abc_tuned.fit(x_train, y_train)"
   ]
  },
  {
   "cell_type": "code",
   "execution_count": 95,
   "id": "54393972",
   "metadata": {},
   "outputs": [
    {
     "data": {
      "image/png": "[encoded data removed]",
      "text/plain": [
       "<Figure size 432x288 with 2 Axes>"
      ]
     },
     "metadata": {
      "needs_background": "light"
     },
     "output_type": "display_data"
    }
   ],
   "source": [
    "#create a confusion matrix of the classifier's performance on the testing data\n",
    "confusion_matrix_sklearn(abc_tuned, x_test,y_test)"
   ]
  },
  {
   "cell_type": "code",
   "execution_count": 96,
   "id": "7f7ba55a",
   "metadata": {},
   "outputs": [
    {
     "name": "stdout",
     "output_type": "stream",
     "text": [
      "Training performance \n",
      "    Accuracy  Recall  Precision   F1\n",
      "0      0.72    0.78       0.79 0.79\n"
     ]
    }
   ],
   "source": [
    "abc_tuned_model_train_perf=model_performance_classification_sklearn(abc_tuned, x_train,y_train)\n",
    "print(\"Training performance \\n\",abc_tuned_model_train_perf)"
   ]
  },
  {
   "cell_type": "code",
   "execution_count": 97,
   "id": "272d7b98",
   "metadata": {},
   "outputs": [
    {
     "name": "stdout",
     "output_type": "stream",
     "text": [
      "Testing performance \n",
      "    Accuracy  Recall  Precision   F1\n",
      "0      0.72    0.79       0.80 0.79\n"
     ]
    }
   ],
   "source": [
    "abc_tuned_model_test_perf=model_performance_classification_sklearn(abc_tuned, x_test, y_test)\n",
    "print(\"Testing performance \\n\",abc_tuned_model_test_perf)"
   ]
  },
  {
   "cell_type": "markdown",
   "id": "3d506d74",
   "metadata": {},
   "source": [
    "* The AdaBoost classifier after tuning performs equally well on the training and testing datasets, indicating that the model is not overfit.\n",
    "* However, this model performs worse than the base model on both the train and test data."
   ]
  },
  {
   "cell_type": "markdown",
   "id": "b3302608",
   "metadata": {
    "id": "AbxL7YlzpkfY"
   },
   "source": [
    "#### Tuning GradientBoost Classifier"
   ]
  },
  {
   "cell_type": "markdown",
   "id": "3aa45c7c",
   "metadata": {},
   "source": [
    "Most of the hyperparameters available match those of a random forest classifier.\n",
    "  - init: An estimator object that is used to compute the initial predictions. If ‘zero’, the initial raw predictions are set to zero. By default, a DummyEstimator predicting the classes priors is used.\n",
    "  - There is no class_weights parameter in gradient boosting."
   ]
  },
  {
   "cell_type": "code",
   "execution_count": 98,
   "id": "fb04eda6",
   "metadata": {
    "id": "4ENuCKyhpkfY",
    "outputId": "c3acdbd7-c36a-40b9-cd67-adc14b9d4d9e"
   },
   "outputs": [
    {
     "data": {
      "text/plain": [
       "GradientBoostingClassifier(ccp_alpha=0.0, criterion='friedman_mse', init=None,\n",
       "                           learning_rate=0.1, loss='deviance', max_depth=3,\n",
       "                           max_features=0.7, max_leaf_nodes=None,\n",
       "                           min_impurity_decrease=0.0, min_impurity_split=None,\n",
       "                           min_samples_leaf=1, min_samples_split=2,\n",
       "                           min_weight_fraction_leaf=0.0, n_estimators=300,\n",
       "                           n_iter_no_change=None, presort='deprecated',\n",
       "                           random_state=1, subsample=1, tol=0.0001,\n",
       "                           validation_fraction=0.1, verbose=0,\n",
       "                           warm_start=False)"
      ]
     },
     "execution_count": 98,
     "metadata": {},
     "output_type": "execute_result"
    }
   ],
   "source": [
    "# Choose the type of classifier. \n",
    "gb_tuned = GradientBoostingClassifier(random_state=1)\n",
    "\n",
    "# Grid of parameters to choose from\n",
    "parameters = {\"n_estimators\": [150,200,250,300],\n",
    "              \"subsample\":[0.8,0.9,1],\n",
    "              \"max_features\":[0.7,0.8,0.9,1],\n",
    "              \"learning_rate\": np.arange(0.1, 0.4, 0.1)}\n",
    "\n",
    "# Type of scoring used to compare parameter combinations\n",
    "scorer = metrics.make_scorer(metrics.f1_score)\n",
    "\n",
    "# Run the randomized search\n",
    "rand_gb = RandomizedSearchCV(gb_tuned, parameters, scoring=scorer,cv=5, n_jobs=-1, random_state=1)\n",
    "rand_gb = rand_gb.fit(x_train, y_train)\n",
    "\n",
    "# Set the clf to the best combination of parameters\n",
    "gb_tuned = rand_gb.best_estimator_\n",
    "\n",
    "# Fit the best algorithm to the data. \n",
    "gb_tuned.fit(x_train, y_train)"
   ]
  },
  {
   "cell_type": "code",
   "execution_count": 99,
   "id": "739dff8b",
   "metadata": {},
   "outputs": [
    {
     "data": {
      "image/png": "[encoded data removed]",
      "text/plain": [
       "<Figure size 432x288 with 2 Axes>"
      ]
     },
     "metadata": {
      "needs_background": "light"
     },
     "output_type": "display_data"
    }
   ],
   "source": [
    "#create a confusion matrix of the classifier's performance on the testing data\n",
    "confusion_matrix_sklearn(gb_tuned, x_test,y_test)"
   ]
  },
  {
   "cell_type": "code",
   "execution_count": 100,
   "id": "1a0350c0",
   "metadata": {},
   "outputs": [
    {
     "name": "stdout",
     "output_type": "stream",
     "text": [
      "Training performance \n",
      "    Accuracy  Recall  Precision   F1\n",
      "0      0.73    0.91       0.74 0.82\n"
     ]
    }
   ],
   "source": [
    "gb_tuned_model_train_perf=model_performance_classification_sklearn(rf_estimator, x_train,y_train)\n",
    "print(\"Training performance \\n\",gb_tuned_model_train_perf)"
   ]
  },
  {
   "cell_type": "code",
   "execution_count": 101,
   "id": "c48b3acc",
   "metadata": {},
   "outputs": [
    {
     "name": "stdout",
     "output_type": "stream",
     "text": [
      "Testing performance \n",
      "    Accuracy  Recall  Precision   F1\n",
      "0      0.73    0.91       0.74 0.82\n"
     ]
    }
   ],
   "source": [
    "gb_tuned_model_test_perf=model_performance_classification_sklearn(rf_estimator, x_test, y_test)\n",
    "print(\"Testing performance \\n\",gb_tuned_model_test_perf)"
   ]
  },
  {
   "cell_type": "markdown",
   "id": "d9a63e32",
   "metadata": {},
   "source": [
    "* The Gradient Boosting classifier after tuning performs equally well on the training and testing datasets, indicating that the model is not overfit.\n",
    "* However, this model performs slightly worse than the base model on both the train and test data."
   ]
  },
  {
   "cell_type": "markdown",
   "id": "a576695b",
   "metadata": {
    "id": "cnXZB3wLpkfa"
   },
   "source": [
    "#### Tuning XGB Classifer"
   ]
  },
  {
   "cell_type": "markdown",
   "id": "f6912ef5",
   "metadata": {},
   "source": [
    "Important parameters include:\n",
    "- scale_pos_weight:Control the balance of positive and negative weights, useful for unbalanced classes. It has range from 0 to $\\infty$.\n",
    "- subsample: Corresponds to the fraction of observations (the rows) to subsample at each step. By default it is set to 1 meaning that we use all rows.\n",
    "- colsample_bytree: Corresponds to the fraction of features (the columns) to use.\n",
    "- colsample_bylevel: The subsample ratio of columns for each level. Columns are subsampled from the set of columns chosen for the current tree.\n",
    "- colsample_bynode: The subsample ratio of columns for each node (split). Columns are subsampled from the set of columns chosen for the current level.\n",
    "- max_depth: is the maximum number of nodes allowed from the root to the farthest leaf of a tree.\n",
    "- learning_rate/eta: Makes the model more robust by shrinking the weights on each step.\n",
    "- gamma: A node is split only when the resulting split gives a positive reduction in the loss function. Gamma specifies the minimum loss reduction required to make a split."
   ]
  },
  {
   "cell_type": "code",
   "execution_count": 102,
   "id": "3a6e54e7",
   "metadata": {
    "id": "g0OwMXYNpkfb",
    "outputId": "68c07830-efa0-4b65-b829-49bd5b008635",
    "scrolled": true
   },
   "outputs": [
    {
     "data": {
      "text/plain": [
       "XGBClassifier(base_score=0.5, booster='gbtree', colsample_bylevel=0.5,\n",
       "              colsample_bynode=1, colsample_bytree=0.5,\n",
       "              enable_categorical=False, eval_metric='logloss', gamma=0,\n",
       "              gpu_id=-1, importance_type=None, interaction_constraints='',\n",
       "              learning_rate=0.2, max_delta_step=0, max_depth=6,\n",
       "              min_child_weight=1, missing=nan, monotone_constraints='()',\n",
       "              n_estimators=90, n_jobs=8, num_parallel_tree=1,\n",
       "              objective='binary:logistic', predictor='auto', random_state=1,\n",
       "              reg_alpha=0, reg_lambda=1, scale_pos_weight=2, subsample=1,\n",
       "              tree_method='exact', use_label_encoder=True,\n",
       "              validate_parameters=1, ...)"
      ]
     },
     "execution_count": 102,
     "metadata": {},
     "output_type": "execute_result"
    }
   ],
   "source": [
    "# Choose the type of classifier. \n",
    "xgb_tuned = XGBClassifier(random_state=1, eval_metric='logloss')\n",
    "\n",
    "# Grid of parameters to choose from\n",
    "parameters = {\"n_estimators\": np.arange(10,100,20),\n",
    "              \"scale_pos_weight\":[0,1,2,5],\n",
    "              \"subsample\":[0.5,0.7,0.9,1],\n",
    "              \"learning_rate\":[0.01,0.1,0.2,0.05],\n",
    "              \"gamma\":[0,1,3],\n",
    "              \"colsample_bytree\":[0.5,0.7,0.9,1],\n",
    "              \"colsample_bylevel\":[0.5,0.7,0.9,1]}\n",
    "\n",
    "# Type of scoring used to compare parameter combinations\n",
    "scorer = metrics.make_scorer(metrics.f1_score)\n",
    "\n",
    "# Run the randomized search\n",
    "rand_xgb = RandomizedSearchCV(xgb_tuned, parameters, scoring=scorer,cv=5, n_jobs=-1, random_state=1)\n",
    "rand_xgb = rand_xgb.fit(x_train, y_train)\n",
    "\n",
    "# Set the clf to the best combination of parameters\n",
    "xgb_tuned = rand_xgb.best_estimator_\n",
    "\n",
    "# Fit the best algorithm to the data. \n",
    "xgb_tuned.fit(x_train, y_train)"
   ]
  },
  {
   "cell_type": "code",
   "execution_count": 103,
   "id": "991f5886",
   "metadata": {},
   "outputs": [
    {
     "data": {
      "image/png": "[encoded data removed]",
      "text/plain": [
       "<Figure size 432x288 with 2 Axes>"
      ]
     },
     "metadata": {
      "needs_background": "light"
     },
     "output_type": "display_data"
    }
   ],
   "source": [
    "confusion_matrix_sklearn(xgb_tuned, x_test,y_test)"
   ]
  },
  {
   "cell_type": "code",
   "execution_count": 104,
   "id": "cd14ba30",
   "metadata": {},
   "outputs": [
    {
     "name": "stdout",
     "output_type": "stream",
     "text": [
      "Training performance \n",
      "    Accuracy  Recall  Precision   F1\n",
      "0      0.75    0.97       0.74 0.84\n"
     ]
    }
   ],
   "source": [
    "xgb_tuned_model_train_perf=model_performance_classification_sklearn(xgb_tuned, x_train,y_train)\n",
    "print(\"Training performance \\n\",xgb_tuned_model_train_perf)"
   ]
  },
  {
   "cell_type": "code",
   "execution_count": 105,
   "id": "fb0fc94f",
   "metadata": {},
   "outputs": [
    {
     "name": "stdout",
     "output_type": "stream",
     "text": [
      "Testing performance \n",
      "    Accuracy  Recall  Precision   F1\n",
      "0      0.73    0.95       0.73 0.82\n"
     ]
    }
   ],
   "source": [
    "xgb_tuned_model_test_perf=model_performance_classification_sklearn(xgb_tuned, x_test, y_test)\n",
    "print(\"Testing performance \\n\",xgb_tuned_model_test_perf)"
   ]
  },
  {
   "cell_type": "markdown",
   "id": "0ee539e7",
   "metadata": {},
   "source": [
    "* The XGBoost classifier after tuning is less overfit than the base model, but performs equally well on the test data.\n",
    "* This indicates a minor improvement over the base model."
   ]
  },
  {
   "cell_type": "markdown",
   "id": "f39fd592",
   "metadata": {},
   "source": [
    "### Tuned models comparison"
   ]
  },
  {
   "cell_type": "code",
   "execution_count": 106,
   "id": "f7b11bcc",
   "metadata": {
    "id": "everyday-kinase",
    "scrolled": true
   },
   "outputs": [
    {
     "name": "stdout",
     "output_type": "stream",
     "text": [
      "Training performance comparison of tuned models:\n"
     ]
    },
    {
     "data": {
      "text/html": [
       "<div>\n",
       "<style scoped>\n",
       "    .dataframe tbody tr th:only-of-type {\n",
       "        vertical-align: middle;\n",
       "    }\n",
       "\n",
       "    .dataframe tbody tr th {\n",
       "        vertical-align: top;\n",
       "    }\n",
       "\n",
       "    .dataframe thead th {\n",
       "        text-align: right;\n",
       "    }\n",
       "</style>\n",
       "<table border=\"1\" class=\"dataframe\">\n",
       "  <thead>\n",
       "    <tr style=\"text-align: right;\">\n",
       "      <th></th>\n",
       "      <th>Tuned Decision Tree</th>\n",
       "      <th>Tuned Bagging Classifier</th>\n",
       "      <th>Tuned Random Forest</th>\n",
       "      <th>Tuned AdaBoost Classifier</th>\n",
       "      <th>Tuned Gradient Boosting Classifier</th>\n",
       "      <th>Tuned XGBoost Classifier</th>\n",
       "    </tr>\n",
       "  </thead>\n",
       "  <tbody>\n",
       "    <tr>\n",
       "      <th>Accuracy</th>\n",
       "      <td>0.73</td>\n",
       "      <td>0.99</td>\n",
       "      <td>0.73</td>\n",
       "      <td>0.72</td>\n",
       "      <td>0.73</td>\n",
       "      <td>0.75</td>\n",
       "    </tr>\n",
       "    <tr>\n",
       "      <th>Recall</th>\n",
       "      <td>0.91</td>\n",
       "      <td>1.00</td>\n",
       "      <td>0.91</td>\n",
       "      <td>0.78</td>\n",
       "      <td>0.91</td>\n",
       "      <td>0.97</td>\n",
       "    </tr>\n",
       "    <tr>\n",
       "      <th>Precision</th>\n",
       "      <td>0.74</td>\n",
       "      <td>0.99</td>\n",
       "      <td>0.74</td>\n",
       "      <td>0.79</td>\n",
       "      <td>0.74</td>\n",
       "      <td>0.74</td>\n",
       "    </tr>\n",
       "    <tr>\n",
       "      <th>F1</th>\n",
       "      <td>0.82</td>\n",
       "      <td>0.99</td>\n",
       "      <td>0.82</td>\n",
       "      <td>0.79</td>\n",
       "      <td>0.82</td>\n",
       "      <td>0.84</td>\n",
       "    </tr>\n",
       "  </tbody>\n",
       "</table>\n",
       "</div>"
      ],
      "text/plain": [
       "           Tuned Decision Tree  Tuned Bagging Classifier  Tuned Random Forest  \\\n",
       "Accuracy                  0.73                      0.99                 0.73   \n",
       "Recall                    0.91                      1.00                 0.91   \n",
       "Precision                 0.74                      0.99                 0.74   \n",
       "F1                        0.82                      0.99                 0.82   \n",
       "\n",
       "           Tuned AdaBoost Classifier  Tuned Gradient Boosting Classifier  \\\n",
       "Accuracy                        0.72                                0.73   \n",
       "Recall                          0.78                                0.91   \n",
       "Precision                       0.79                                0.74   \n",
       "F1                              0.79                                0.82   \n",
       "\n",
       "           Tuned XGBoost Classifier  \n",
       "Accuracy                       0.75  \n",
       "Recall                         0.97  \n",
       "Precision                      0.74  \n",
       "F1                             0.84  "
      ]
     },
     "execution_count": 106,
     "metadata": {},
     "output_type": "execute_result"
    }
   ],
   "source": [
    "# create a dataframe comparing the performance of the tuned models on the training data\n",
    "\n",
    "tuned_models_train_comp_df = pd.concat(\n",
    "    [dtree_estimator_model_train_perf.T,\n",
    "     bagging_estimator_model_train_perf.T,\n",
    "     rf_estimator_model_train_perf.T,\n",
    "     abc_tuned_model_train_perf.T, \n",
    "     gb_tuned_model_train_perf.T, \n",
    "     xgb_tuned_model_train_perf.T],\n",
    "    axis=1,\n",
    ")\n",
    "tuned_models_train_comp_df.columns = [\n",
    "    \"Tuned Decision Tree\",\n",
    "    \"Tuned Bagging Classifier\",\n",
    "    \"Tuned Random Forest\",\n",
    "    \"Tuned AdaBoost Classifier\",\n",
    "    \"Tuned Gradient Boosting Classifier\",\n",
    "    \"Tuned XGBoost Classifier\"]\n",
    "print(\"Training performance comparison of tuned models:\")\n",
    "tuned_models_train_comp_df"
   ]
  },
  {
   "cell_type": "code",
   "execution_count": 107,
   "id": "2f633db2",
   "metadata": {
    "scrolled": true
   },
   "outputs": [
    {
     "name": "stdout",
     "output_type": "stream",
     "text": [
      "Testing performance comparison of tuned models:\n"
     ]
    },
    {
     "data": {
      "text/html": [
       "<div>\n",
       "<style scoped>\n",
       "    .dataframe tbody tr th:only-of-type {\n",
       "        vertical-align: middle;\n",
       "    }\n",
       "\n",
       "    .dataframe tbody tr th {\n",
       "        vertical-align: top;\n",
       "    }\n",
       "\n",
       "    .dataframe thead th {\n",
       "        text-align: right;\n",
       "    }\n",
       "</style>\n",
       "<table border=\"1\" class=\"dataframe\">\n",
       "  <thead>\n",
       "    <tr style=\"text-align: right;\">\n",
       "      <th></th>\n",
       "      <th>Tuned Decision Tree</th>\n",
       "      <th>Tuned Bagging Classifier</th>\n",
       "      <th>Tuned Random Forest</th>\n",
       "      <th>Tuned AdaBoost Classifier</th>\n",
       "      <th>Tuned Gradient Boosting Classifier</th>\n",
       "      <th>Tuned XGBoost Classifier</th>\n",
       "    </tr>\n",
       "  </thead>\n",
       "  <tbody>\n",
       "    <tr>\n",
       "      <th>Accuracy</th>\n",
       "      <td>0.73</td>\n",
       "      <td>0.73</td>\n",
       "      <td>0.73</td>\n",
       "      <td>0.72</td>\n",
       "      <td>0.73</td>\n",
       "      <td>0.73</td>\n",
       "    </tr>\n",
       "    <tr>\n",
       "      <th>Recall</th>\n",
       "      <td>0.91</td>\n",
       "      <td>0.87</td>\n",
       "      <td>0.91</td>\n",
       "      <td>0.79</td>\n",
       "      <td>0.91</td>\n",
       "      <td>0.95</td>\n",
       "    </tr>\n",
       "    <tr>\n",
       "      <th>Precision</th>\n",
       "      <td>0.74</td>\n",
       "      <td>0.76</td>\n",
       "      <td>0.74</td>\n",
       "      <td>0.80</td>\n",
       "      <td>0.74</td>\n",
       "      <td>0.73</td>\n",
       "    </tr>\n",
       "    <tr>\n",
       "      <th>F1</th>\n",
       "      <td>0.82</td>\n",
       "      <td>0.81</td>\n",
       "      <td>0.82</td>\n",
       "      <td>0.79</td>\n",
       "      <td>0.82</td>\n",
       "      <td>0.82</td>\n",
       "    </tr>\n",
       "  </tbody>\n",
       "</table>\n",
       "</div>"
      ],
      "text/plain": [
       "           Tuned Decision Tree  Tuned Bagging Classifier  Tuned Random Forest  \\\n",
       "Accuracy                  0.73                      0.73                 0.73   \n",
       "Recall                    0.91                      0.87                 0.91   \n",
       "Precision                 0.74                      0.76                 0.74   \n",
       "F1                        0.82                      0.81                 0.82   \n",
       "\n",
       "           Tuned AdaBoost Classifier  Tuned Gradient Boosting Classifier  \\\n",
       "Accuracy                        0.72                                0.73   \n",
       "Recall                          0.79                                0.91   \n",
       "Precision                       0.80                                0.74   \n",
       "F1                              0.79                                0.82   \n",
       "\n",
       "           Tuned XGBoost Classifier  \n",
       "Accuracy                       0.73  \n",
       "Recall                         0.95  \n",
       "Precision                      0.73  \n",
       "F1                             0.82  "
      ]
     },
     "execution_count": 107,
     "metadata": {},
     "output_type": "execute_result"
    }
   ],
   "source": [
    "# create a dataframe comparing the performance of the tuned models on the testing data\n",
    "\n",
    "tuned_models_test_comp_df = pd.concat(\n",
    "    [dtree_estimator_model_test_perf.T,\n",
    "     bagging_estimator_model_test_perf.T,\n",
    "     rf_estimator_model_test_perf.T,\n",
    "     abc_tuned_model_test_perf.T, \n",
    "     gb_tuned_model_test_perf.T, \n",
    "     xgb_tuned_model_test_perf.T],\n",
    "    axis=1,\n",
    ")\n",
    "tuned_models_test_comp_df.columns = [\n",
    "    \"Tuned Decision Tree\",\n",
    "    \"Tuned Bagging Classifier\",\n",
    "    \"Tuned Random Forest\",\n",
    "    \"Tuned AdaBoost Classifier\",\n",
    "    \"Tuned Gradient Boosting Classifier\",\n",
    "    \"Tuned XGBoost Classifier\"]\n",
    "print(\"Testing performance comparison of tuned models:\")\n",
    "tuned_models_test_comp_df"
   ]
  },
  {
   "cell_type": "markdown",
   "id": "73b632bb",
   "metadata": {
    "id": "obvious-maine"
   },
   "source": [
    "## Model Performance Comparison"
   ]
  },
  {
   "cell_type": "code",
   "execution_count": 108,
   "id": "5aa8a807",
   "metadata": {
    "scrolled": true
   },
   "outputs": [
    {
     "data": {
      "text/html": [
       "<div>\n",
       "<style scoped>\n",
       "    .dataframe tbody tr th:only-of-type {\n",
       "        vertical-align: middle;\n",
       "    }\n",
       "\n",
       "    .dataframe tbody tr th {\n",
       "        vertical-align: top;\n",
       "    }\n",
       "\n",
       "    .dataframe thead th {\n",
       "        text-align: right;\n",
       "    }\n",
       "</style>\n",
       "<table border=\"1\" class=\"dataframe\">\n",
       "  <thead>\n",
       "    <tr style=\"text-align: right;\">\n",
       "      <th></th>\n",
       "      <th>Accuracy</th>\n",
       "      <th>Recall</th>\n",
       "      <th>Precision</th>\n",
       "      <th>F1</th>\n",
       "    </tr>\n",
       "  </thead>\n",
       "  <tbody>\n",
       "    <tr>\n",
       "      <th>Decision Tree</th>\n",
       "      <td>1.00</td>\n",
       "      <td>1.00</td>\n",
       "      <td>1.00</td>\n",
       "      <td>1.00</td>\n",
       "    </tr>\n",
       "    <tr>\n",
       "      <th>Random Forest</th>\n",
       "      <td>1.00</td>\n",
       "      <td>1.00</td>\n",
       "      <td>1.00</td>\n",
       "      <td>1.00</td>\n",
       "    </tr>\n",
       "    <tr>\n",
       "      <th>Tuned Bagging Classifier</th>\n",
       "      <td>0.99</td>\n",
       "      <td>1.00</td>\n",
       "      <td>0.99</td>\n",
       "      <td>0.99</td>\n",
       "    </tr>\n",
       "    <tr>\n",
       "      <th>Bagging Classifier</th>\n",
       "      <td>0.98</td>\n",
       "      <td>0.98</td>\n",
       "      <td>0.99</td>\n",
       "      <td>0.99</td>\n",
       "    </tr>\n",
       "    <tr>\n",
       "      <th>XGBoost Classifier</th>\n",
       "      <td>0.81</td>\n",
       "      <td>0.92</td>\n",
       "      <td>0.82</td>\n",
       "      <td>0.87</td>\n",
       "    </tr>\n",
       "    <tr>\n",
       "      <th>Tuned XGBoost Classifier</th>\n",
       "      <td>0.75</td>\n",
       "      <td>0.97</td>\n",
       "      <td>0.74</td>\n",
       "      <td>0.84</td>\n",
       "    </tr>\n",
       "    <tr>\n",
       "      <th>Gradient Boosting Classifier</th>\n",
       "      <td>0.75</td>\n",
       "      <td>0.87</td>\n",
       "      <td>0.78</td>\n",
       "      <td>0.83</td>\n",
       "    </tr>\n",
       "    <tr>\n",
       "      <th>Tuned Decision Tree</th>\n",
       "      <td>0.73</td>\n",
       "      <td>0.91</td>\n",
       "      <td>0.74</td>\n",
       "      <td>0.82</td>\n",
       "    </tr>\n",
       "    <tr>\n",
       "      <th>Tuned Random Forest</th>\n",
       "      <td>0.73</td>\n",
       "      <td>0.91</td>\n",
       "      <td>0.74</td>\n",
       "      <td>0.82</td>\n",
       "    </tr>\n",
       "    <tr>\n",
       "      <th>Tuned Gradient Boosting Classifier</th>\n",
       "      <td>0.73</td>\n",
       "      <td>0.91</td>\n",
       "      <td>0.74</td>\n",
       "      <td>0.82</td>\n",
       "    </tr>\n",
       "    <tr>\n",
       "      <th>AdaBoost Classifier</th>\n",
       "      <td>0.73</td>\n",
       "      <td>0.88</td>\n",
       "      <td>0.76</td>\n",
       "      <td>0.82</td>\n",
       "    </tr>\n",
       "    <tr>\n",
       "      <th>Tuned AdaBoost Classifier</th>\n",
       "      <td>0.72</td>\n",
       "      <td>0.78</td>\n",
       "      <td>0.79</td>\n",
       "      <td>0.79</td>\n",
       "    </tr>\n",
       "  </tbody>\n",
       "</table>\n",
       "</div>"
      ],
      "text/plain": [
       "                                    Accuracy  Recall  Precision   F1\n",
       "Decision Tree                           1.00    1.00       1.00 1.00\n",
       "Random Forest                           1.00    1.00       1.00 1.00\n",
       "Tuned Bagging Classifier                0.99    1.00       0.99 0.99\n",
       "Bagging Classifier                      0.98    0.98       0.99 0.99\n",
       "XGBoost Classifier                      0.81    0.92       0.82 0.87\n",
       "Tuned XGBoost Classifier                0.75    0.97       0.74 0.84\n",
       "Gradient Boosting Classifier            0.75    0.87       0.78 0.83\n",
       "Tuned Decision Tree                     0.73    0.91       0.74 0.82\n",
       "Tuned Random Forest                     0.73    0.91       0.74 0.82\n",
       "Tuned Gradient Boosting Classifier      0.73    0.91       0.74 0.82\n",
       "AdaBoost Classifier                     0.73    0.88       0.76 0.82\n",
       "Tuned AdaBoost Classifier               0.72    0.78       0.79 0.79"
      ]
     },
     "execution_count": 108,
     "metadata": {},
     "output_type": "execute_result"
    }
   ],
   "source": [
    "# create a dataframe comparing the performance all models on the training data\n",
    "all_models_train_comp = pd.concat([models_train_comp_df,tuned_models_train_comp_df],axis=1)\n",
    "all_models_train_comp.T.sort_values('F1',ascending=False)"
   ]
  },
  {
   "cell_type": "code",
   "execution_count": 109,
   "id": "d24ef73d",
   "metadata": {},
   "outputs": [
    {
     "data": {
      "text/plain": [
       "'The best performing model on the training data is the Decision Tree'"
      ]
     },
     "execution_count": 109,
     "metadata": {},
     "output_type": "execute_result"
    }
   ],
   "source": [
    "'The best performing model on the training data is the ' + all_models_train_comp.T.sort_values('F1',ascending=False).index[0]"
   ]
  },
  {
   "cell_type": "code",
   "execution_count": 110,
   "id": "c990bcbf",
   "metadata": {
    "scrolled": true
   },
   "outputs": [
    {
     "data": {
      "text/html": [
       "<div>\n",
       "<style scoped>\n",
       "    .dataframe tbody tr th:only-of-type {\n",
       "        vertical-align: middle;\n",
       "    }\n",
       "\n",
       "    .dataframe tbody tr th {\n",
       "        vertical-align: top;\n",
       "    }\n",
       "\n",
       "    .dataframe thead th {\n",
       "        text-align: right;\n",
       "    }\n",
       "</style>\n",
       "<table border=\"1\" class=\"dataframe\">\n",
       "  <thead>\n",
       "    <tr style=\"text-align: right;\">\n",
       "      <th></th>\n",
       "      <th>Accuracy</th>\n",
       "      <th>Recall</th>\n",
       "      <th>Precision</th>\n",
       "      <th>F1</th>\n",
       "    </tr>\n",
       "  </thead>\n",
       "  <tbody>\n",
       "    <tr>\n",
       "      <th>Gradient Boosting Classifier</th>\n",
       "      <td>0.75</td>\n",
       "      <td>0.88</td>\n",
       "      <td>0.78</td>\n",
       "      <td>0.83</td>\n",
       "    </tr>\n",
       "    <tr>\n",
       "      <th>Tuned XGBoost Classifier</th>\n",
       "      <td>0.73</td>\n",
       "      <td>0.95</td>\n",
       "      <td>0.73</td>\n",
       "      <td>0.82</td>\n",
       "    </tr>\n",
       "    <tr>\n",
       "      <th>AdaBoost Classifier</th>\n",
       "      <td>0.74</td>\n",
       "      <td>0.89</td>\n",
       "      <td>0.76</td>\n",
       "      <td>0.82</td>\n",
       "    </tr>\n",
       "    <tr>\n",
       "      <th>XGBoost Classifier</th>\n",
       "      <td>0.75</td>\n",
       "      <td>0.87</td>\n",
       "      <td>0.78</td>\n",
       "      <td>0.82</td>\n",
       "    </tr>\n",
       "    <tr>\n",
       "      <th>Tuned Decision Tree</th>\n",
       "      <td>0.73</td>\n",
       "      <td>0.91</td>\n",
       "      <td>0.74</td>\n",
       "      <td>0.82</td>\n",
       "    </tr>\n",
       "    <tr>\n",
       "      <th>Tuned Random Forest</th>\n",
       "      <td>0.73</td>\n",
       "      <td>0.91</td>\n",
       "      <td>0.74</td>\n",
       "      <td>0.82</td>\n",
       "    </tr>\n",
       "    <tr>\n",
       "      <th>Tuned Gradient Boosting Classifier</th>\n",
       "      <td>0.73</td>\n",
       "      <td>0.91</td>\n",
       "      <td>0.74</td>\n",
       "      <td>0.82</td>\n",
       "    </tr>\n",
       "    <tr>\n",
       "      <th>Tuned Bagging Classifier</th>\n",
       "      <td>0.73</td>\n",
       "      <td>0.87</td>\n",
       "      <td>0.76</td>\n",
       "      <td>0.81</td>\n",
       "    </tr>\n",
       "    <tr>\n",
       "      <th>Tuned AdaBoost Classifier</th>\n",
       "      <td>0.72</td>\n",
       "      <td>0.79</td>\n",
       "      <td>0.80</td>\n",
       "      <td>0.79</td>\n",
       "    </tr>\n",
       "    <tr>\n",
       "      <th>Random Forest</th>\n",
       "      <td>0.70</td>\n",
       "      <td>0.79</td>\n",
       "      <td>0.77</td>\n",
       "      <td>0.78</td>\n",
       "    </tr>\n",
       "    <tr>\n",
       "      <th>Bagging Classifier</th>\n",
       "      <td>0.69</td>\n",
       "      <td>0.77</td>\n",
       "      <td>0.77</td>\n",
       "      <td>0.77</td>\n",
       "    </tr>\n",
       "    <tr>\n",
       "      <th>Decision Tree</th>\n",
       "      <td>0.66</td>\n",
       "      <td>0.74</td>\n",
       "      <td>0.75</td>\n",
       "      <td>0.75</td>\n",
       "    </tr>\n",
       "  </tbody>\n",
       "</table>\n",
       "</div>"
      ],
      "text/plain": [
       "                                    Accuracy  Recall  Precision   F1\n",
       "Gradient Boosting Classifier            0.75    0.88       0.78 0.83\n",
       "Tuned XGBoost Classifier                0.73    0.95       0.73 0.82\n",
       "AdaBoost Classifier                     0.74    0.89       0.76 0.82\n",
       "XGBoost Classifier                      0.75    0.87       0.78 0.82\n",
       "Tuned Decision Tree                     0.73    0.91       0.74 0.82\n",
       "Tuned Random Forest                     0.73    0.91       0.74 0.82\n",
       "Tuned Gradient Boosting Classifier      0.73    0.91       0.74 0.82\n",
       "Tuned Bagging Classifier                0.73    0.87       0.76 0.81\n",
       "Tuned AdaBoost Classifier               0.72    0.79       0.80 0.79\n",
       "Random Forest                           0.70    0.79       0.77 0.78\n",
       "Bagging Classifier                      0.69    0.77       0.77 0.77\n",
       "Decision Tree                           0.66    0.74       0.75 0.75"
      ]
     },
     "execution_count": 110,
     "metadata": {},
     "output_type": "execute_result"
    }
   ],
   "source": [
    "# create a dataframe comparing the performance of all models on the testing data\n",
    "all_models_test_comp = pd.concat([models_test_comp_df,tuned_models_test_comp_df],axis=1)\n",
    "all_models_test_comp.T.sort_values('F1',ascending=False)"
   ]
  },
  {
   "cell_type": "code",
   "execution_count": 111,
   "id": "c29cd832",
   "metadata": {},
   "outputs": [
    {
     "data": {
      "text/plain": [
       "'The best performing model on the testing data is the Gradient Boosting Classifier'"
      ]
     },
     "execution_count": 111,
     "metadata": {},
     "output_type": "execute_result"
    }
   ],
   "source": [
    "'The best performing model on the testing data is the ' + all_models_test_comp.T.sort_values('F1',ascending=False).index[0]"
   ]
  },
  {
   "cell_type": "markdown",
   "id": "a852d27d",
   "metadata": {},
   "source": [
    "#### Observations\n",
    "* As expected the Decision Tree model performs the best on the training dataset, since the model will significantly overfit this data unless pruned otherwise.\n",
    "* The base Gradient Boosting classifier performs the best on the testing dataset, with an 0.83 F1 score.\n",
    "* Interestingly, **six** models tied for the second-best performance, with an F1 score of 0.82."
   ]
  },
  {
   "cell_type": "markdown",
   "id": "0a1a4f4e",
   "metadata": {},
   "source": [
    "### Feature importance of: Gradient Boosting Classifier"
   ]
  },
  {
   "cell_type": "code",
   "execution_count": 112,
   "id": "aeb0d7ae",
   "metadata": {
    "id": "U7sE1kpqxLQW",
    "outputId": "71aa0d79-d32c-4288-ff74-f930c831622d",
    "scrolled": true
   },
   "outputs": [
    {
     "name": "stdout",
     "output_type": "stream",
     "text": [
      "                                   Imp\n",
      "education_of_employee_High School 0.29\n",
      "has_job_experience_Y              0.17\n",
      "prevailing_wage                   0.11\n",
      "education_of_employee_Master's    0.09\n",
      "education_of_employee_Doctorate   0.09\n",
      "unit_of_wage_Year                 0.06\n",
      "continent_Europe                  0.06\n",
      "region_of_employment_Midwest      0.03\n",
      "region_of_employment_South        0.02\n",
      "continent_North America           0.02\n"
     ]
    }
   ],
   "source": [
    "\"\"\"The importance of features in the tree building \n",
    "(The importance of a feature is computed as the (normalized) total \n",
    "reduction of the criterion brought by that feature.)\"\"\"\n",
    "\n",
    "print(pd.DataFrame(gbc.feature_importances_, columns = [\"Imp\"], \n",
    "                   index = x_train.columns).sort_values(by = 'Imp', ascending = False).head(10))"
   ]
  },
  {
   "cell_type": "code",
   "execution_count": 113,
   "id": "bf002ef1",
   "metadata": {},
   "outputs": [],
   "source": [
    "feature_names = x_train.columns"
   ]
  },
  {
   "cell_type": "code",
   "execution_count": 114,
   "id": "cf7d92c8",
   "metadata": {
    "scrolled": true
   },
   "outputs": [
    {
     "data": {
      "image/png": "[encoded data removed]",
      "text/plain": [
       "<Figure size 864x864 with 1 Axes>"
      ]
     },
     "metadata": {
      "needs_background": "light"
     },
     "output_type": "display_data"
    }
   ],
   "source": [
    "importances = gbc.feature_importances_\n",
    "indices = np.argsort(importances)\n",
    "\n",
    "plt.figure(figsize=(12,12))\n",
    "plt.title('Feature Importances')\n",
    "plt.barh(range(len(indices)), importances[indices], align='center')\n",
    "plt.yticks(range(len(indices)), [feature_names[i] for i in indices])\n",
    "plt.xlabel('Relative Importance')\n",
    "plt.show()"
   ]
  },
  {
   "cell_type": "markdown",
   "id": "a424a3ba",
   "metadata": {},
   "source": [
    "### Visualization of Decision Tree (tuned)"
   ]
  },
  {
   "cell_type": "code",
   "execution_count": 115,
   "id": "26b07cfa",
   "metadata": {
    "scrolled": true
   },
   "outputs": [
    {
     "data": {
      "image/png": "[encoded data removed]",
      "text/plain": [
       "<Figure size 1152x576 with 1 Axes>"
      ]
     },
     "metadata": {
      "needs_background": "light"
     },
     "output_type": "display_data"
    }
   ],
   "source": [
    "#create visualization of tuned decision-tree model\n",
    "feature_names = list(X.columns)\n",
    "plt.figure(figsize=(16,8))\n",
    "tree.plot_tree(dtree_estimator,feature_names=feature_names,filled=True,fontsize=12,node_ids=True,class_names=True)\n",
    "plt.show()"
   ]
  },
  {
   "cell_type": "markdown",
   "id": "2b68f44c",
   "metadata": {
    "id": "nasty-retailer"
   },
   "source": [
    "## Conclusions"
   ]
  },
  {
   "cell_type": "markdown",
   "id": "0169f1c8",
   "metadata": {
    "id": "amino-prediction"
   },
   "source": [
    "#### Insights\n",
    "For the Office of Foreign Labor Certification (OFLC), the three most critical components for pre-screening an applicant are:\n",
    "* *Education level*\n",
    "    * An applicant applying for a job requiring a high school diploma will more than likely be denied. Conversely, applications for jobs requiring a Master's degree or doctorate are very likely to be approved.\n",
    "* *Prior job experience*\n",
    "    * An applicant applying for a job without any previous job experience is more likley to be denied than an applicant for a job with experience.\n",
    "* *Prevailing wage*\n",
    "    * The higher the prevailing wage of the job an applicant is applying for, the more likely the application will be approved. This is especially true for applications for jobs with an hourly unit of wage.\n",
    "    \n",
    "#### Recommendations\n",
    "* To prioritize limited resources towards screening a batch of applications for those most likely to be approved, the OFLC can:\n",
    "    * Sort applications by level of education and review the higher levels of education first.\n",
    "    * Sort applications by previous job experience and review those with experience first.\n",
    "    * Divide applications for jobs into those with an hourly wage and those with an annual wage, sort each group by the prevailing wage, then review applications for salaried jobs first from highest to lowest wage.\n",
    "* As stated previously, the Gradient Boosting classifier performs the best of all the models created. However, as shown above, the tuned Decision-Tree model performs barely worse by F1 score and is a far simpler model. This model may be preferable if post-hoc explanations of OFLC decision-making is expected to be required.\n",
    "    * Furthermore, OFLC should examine more thoroughly why whether an application will be certified or denied can be very well predicted through just three nodes as shown above. \n",
    "    * For those in less skilled, entry-level, and/or hourly jobs, the system would appear to be biased against these applications being certified."
   ]
  }
 ],
 "metadata": {
  "colab": {
   "collapsed_sections": [],
   "name": "EasyVisa_Project_Template_Notebook.ipynb",
   "provenance": []
  },
  "kernelspec": {
   "display_name": "Python 3 (ipykernel)",
   "language": "python",
   "name": "python3"
  },
  "language_info": {
   "codemirror_mode": {
    "name": "ipython",
    "version": 3
   },
   "file_extension": ".py",
   "mimetype": "text/x-python",
   "name": "python",
   "nbconvert_exporter": "python",
   "pygments_lexer": "ipython3",
   "version": "3.9.7"
  }
 },
 "nbformat": 4,
 "nbformat_minor": 5
}
